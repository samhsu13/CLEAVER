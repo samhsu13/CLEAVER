{
 "cells": [
  {
   "cell_type": "code",
   "execution_count": 1,
   "metadata": {},
   "outputs": [],
   "source": [
    "import numpy as np\n",
    "import pandas as pd\n",
    "import sklearn.metrics"
   ]
  },
  {
   "cell_type": "code",
   "execution_count": 2,
   "metadata": {},
   "outputs": [],
   "source": [
    "both_gen = pd.read_csv('biostamp_thigh_chest_rf15_Ellis_clean_complete.csv')"
   ]
  },
  {
   "cell_type": "code",
   "execution_count": 7,
   "metadata": {},
   "outputs": [
    {
     "data": {
      "text/plain": [
       "(array([0.97883533, 0.89604486, 0.89794648, 0.        , 0.97419805]),\n",
       " array([0.98421951, 0.94797595, 0.82910188, 0.        , 0.69341496]),\n",
       " array([0.98152004, 0.92127916, 0.86215202, 0.        , 0.81016818]),\n",
       " array([170527, 112275,  55694,   1520,   6044]))"
      ]
     },
     "execution_count": 7,
     "metadata": {},
     "output_type": "execute_result"
    }
   ],
   "source": [
    "both_gen_accuracies = sklearn.metrics.precision_recall_fscore_support(both_gen['general_coding'], both_gen['predicted'], labels=['sit', 'standing', 'walk/run', 'riding in vehicle', 'other'])\n",
    "both_gen_accuracies"
   ]
  },
  {
   "cell_type": "code",
   "execution_count": 4,
   "metadata": {},
   "outputs": [],
   "source": [
    "wrist_gen = pd.read_csv('actigraph_wrist23_rf15_Ellis_clean_wrist_complete.csv')"
   ]
  },
  {
   "cell_type": "code",
   "execution_count": 8,
   "metadata": {},
   "outputs": [
    {
     "data": {
      "text/plain": [
       "(array([0.75599688, 0.53316739, 0.86959596, 0.        , 0.        ]),\n",
       " array([0.78722944, 0.6068456 , 0.64128246, 0.        , 0.        ]),\n",
       " array([0.77129711, 0.56762561, 0.73818863, 0.        , 0.        ]),\n",
       " array([170987, 108011,  55612,   1520,   6044]))"
      ]
     },
     "execution_count": 8,
     "metadata": {},
     "output_type": "execute_result"
    }
   ],
   "source": [
    "wrist_gen_accuracies = sklearn.metrics.precision_recall_fscore_support(wrist_gen['Ellis_coding'], wrist_gen['predicted'], labels=['sit', 'standing', 'walk/run', 'riding in vehicle', 'other'])\n",
    "wrist_gen_accuracies"
   ]
  },
  {
   "cell_type": "code",
   "execution_count": 9,
   "metadata": {},
   "outputs": [],
   "source": [
    "bio_fullRF = pd.read_csv('biostamp_thigh_chest_rf15_full_clean_complete.csv')"
   ]
  },
  {
   "cell_type": "code",
   "execution_count": 10,
   "metadata": {},
   "outputs": [
    {
     "name": "stderr",
     "output_type": "stream",
     "text": [
      "/Users/samhsu/anaconda3/lib/python3.6/site-packages/sklearn/metrics/classification.py:1143: UndefinedMetricWarning: Precision and F-score are ill-defined and being set to 0.0 in labels with no predicted samples.\n",
      "  'precision', 'predicted', average, warn_for)\n"
     ]
    }
   ],
   "source": [
    "full_labels = ['SB- lying',\n",
    "          'SB-sitting',\n",
    "          'LA- stand',\n",
    "          'LA- stand and move light',\n",
    "          'LA- stand and move moderate',\n",
    "          'LA- stand and move vigorous',\n",
    "          'WA- walk light',\n",
    "          'WA- walk moderate',\n",
    "          'WA- walk vigorous',\n",
    "          'WA- ascend stairs',\n",
    "          'WA- descend stairs',\n",
    "          'WA- running',\n",
    "          'SP- other sport movement',\n",
    "          'SP- bike']\n",
    "\n",
    "bio_fullRF_accuracies = sklearn.metrics.precision_recall_fscore_support(bio_fullRF['posture_coding'], \n",
    "                                                                       bio_fullRF['predicted'],\n",
    "                                                                       labels=full_labels)"
   ]
  },
  {
   "cell_type": "code",
   "execution_count": 11,
   "metadata": {},
   "outputs": [
    {
     "data": {
      "text/plain": [
       "(array([0.        , 0.98626489, 0.80347954, 0.365322  , 0.03398058,\n",
       "        0.        , 0.2731779 , 0.74426909, 0.        , 0.37078652,\n",
       "        0.43315508, 0.96004052, 0.        , 0.96850225]),\n",
       " array([0.        , 0.98408001, 0.92012132, 0.29390872, 0.00637329,\n",
       "        0.        , 0.15349701, 0.83422444, 0.        , 0.23571429,\n",
       "        0.07964602, 0.92787206, 0.        , 0.74809666]),\n",
       " array([0.        , 0.98517124, 0.85785367, 0.32574732, 0.01073345,\n",
       "        0.        , 0.19655241, 0.78668357, 0.        , 0.28820961,\n",
       "        0.1345515 , 0.94368223, 0.        , 0.84414978]),\n",
       " array([    25, 171985,  86381,  22524,   3295,     78,   9694,  32731,\n",
       "          1974,   1120,   1017,   9192,      2,   6042]))"
      ]
     },
     "execution_count": 11,
     "metadata": {},
     "output_type": "execute_result"
    }
   ],
   "source": [
    "bio_fullRF_accuracies"
   ]
  },
  {
   "cell_type": "code",
   "execution_count": 12,
   "metadata": {},
   "outputs": [
    {
     "data": {
      "text/plain": [
       "SB-sitting                     171985\n",
       "LA- stand                       86381\n",
       "WA- walk moderate               32731\n",
       "LA- stand and move light        22524\n",
       "WA- walk light                   9694\n",
       "WA- running                      9192\n",
       "SP- bike                         6042\n",
       "LA- stand and move moderate      3295\n",
       "WA- walk vigorous                1974\n",
       "WA- ascend stairs                1120\n",
       "WA- descend stairs               1017\n",
       "LA- stand and move vigorous        78\n",
       "SB- lying                          25\n",
       "SP- other sport movement            2\n",
       "Name: posture_coding, dtype: int64"
      ]
     },
     "execution_count": 12,
     "metadata": {},
     "output_type": "execute_result"
    }
   ],
   "source": [
    "bio_fullRF['posture_coding'].value_counts()"
   ]
  },
  {
   "cell_type": "code",
   "execution_count": 13,
   "metadata": {},
   "outputs": [
    {
     "data": {
      "text/plain": [
       "SB-sitting                     0.496980\n",
       "LA- stand                      0.249613\n",
       "WA- walk moderate              0.094582\n",
       "LA- stand and move light       0.065087\n",
       "WA- walk light                 0.028012\n",
       "WA- running                    0.026562\n",
       "SP- bike                       0.017459\n",
       "LA- stand and move moderate    0.009521\n",
       "WA- walk vigorous              0.005704\n",
       "WA- ascend stairs              0.003236\n",
       "WA- descend stairs             0.002939\n",
       "LA- stand and move vigorous    0.000225\n",
       "SB- lying                      0.000072\n",
       "SP- other sport movement       0.000006\n",
       "Name: posture_coding, dtype: float64"
      ]
     },
     "execution_count": 13,
     "metadata": {},
     "output_type": "execute_result"
    }
   ],
   "source": [
    "bio_fullRF['posture_coding'].value_counts()/bio_fullRF.shape[0]"
   ]
  },
  {
   "cell_type": "code",
   "execution_count": null,
   "metadata": {},
   "outputs": [],
   "source": []
  }
 ],
 "metadata": {
  "kernelspec": {
   "display_name": "Python 3",
   "language": "python",
   "name": "python3"
  },
  "language_info": {
   "codemirror_mode": {
    "name": "ipython",
    "version": 3
   },
   "file_extension": ".py",
   "mimetype": "text/x-python",
   "name": "python",
   "nbconvert_exporter": "python",
   "pygments_lexer": "ipython3",
   "version": "3.6.4"
  }
 },
 "nbformat": 4,
 "nbformat_minor": 2
}
