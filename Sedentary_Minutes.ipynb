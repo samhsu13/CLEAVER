{
 "cells": [
  {
   "cell_type": "code",
   "execution_count": 2,
   "metadata": {},
   "outputs": [],
   "source": [
    "import pandas as pd\n",
    "import numpy as np"
   ]
  },
  {
   "cell_type": "code",
   "execution_count": 3,
   "metadata": {},
   "outputs": [],
   "source": [
    "my_dir = \"/Users/samhsu/Documents/THESIS/Data/CleanedWrist/Sedentary_SecBySec/\""
   ]
  },
  {
   "cell_type": "code",
   "execution_count": 4,
   "metadata": {},
   "outputs": [],
   "source": [
    "def read_ground_truth(ob):\n",
    "    file = ob + \"_sed_second_codings.csv\"\n",
    "    ground_truth = pd.read_csv(my_dir + file)\n",
    "    return ground_truth"
   ]
  },
  {
   "cell_type": "code",
   "execution_count": 5,
   "metadata": {
    "scrolled": true
   },
   "outputs": [
    {
     "data": {
      "text/plain": [
       "{'AM01DO1_J_FINAL_R',\n",
       " 'AM01DO2_M_FINAL_R',\n",
       " 'AM02DO1_J_FINAL_R',\n",
       " 'AM02DO2_J_copyA_FINAL_R',\n",
       " 'AM03DO1_M_FINAL_R',\n",
       " 'AM03DO2_J_FINAL_R',\n",
       " 'AM04DO1_J_FINAL_R',\n",
       " 'AM04DO2_M_FINAL_R',\n",
       " 'AM05DO2re_R_FINAL_C',\n",
       " 'AM06DO1_J_FINAL_C',\n",
       " 'AM06DO2_N_FINAL_C',\n",
       " 'AM07DO1_R_FINAL_C',\n",
       " 'AM07DO2_M_FINAL_R',\n",
       " 'AM08DO1_J_copyA_FINAL_R',\n",
       " 'AM08DO1_J_copyB_FINAL_R',\n",
       " 'AM08DO2_J_FINAL_R',\n",
       " 'AM09DO1_N_FINAL_R',\n",
       " 'AM09DO2_M_FINAL_R',\n",
       " 'AM10DO2_M_FINAL_R',\n",
       " 'AM11DO1_N_copyA_FINAL_C',\n",
       " 'AM11DO2_R_copyA_FINAL_C',\n",
       " 'AM11DO2_R_copyB_FINAL_C',\n",
       " 'AM12DO1_J_FINAL_C',\n",
       " 'AM12DO2_J_copyA_FINAL_C',\n",
       " 'AM12DO2_J_copyB_FINAL_C',\n",
       " 'AM13DO1_N_FINAL_C',\n",
       " 'AM13DO2_M_FINAL_R',\n",
       " 'AM14DO1_J_FINAL_R',\n",
       " 'AM14DO2_M_FINAL_R',\n",
       " 'AM15DO1_R_FINAL_C',\n",
       " 'AM15DO2_M_copyA_FINAL_C',\n",
       " 'AM15DO2_N_copyA_FINAL_R',\n",
       " 'AM16DO1_M_FINAL_R',\n",
       " 'AM16DO2_M_FINAL_R',\n",
       " 'AM17DO1_J_FINAL_R',\n",
       " 'AM17DO2_M_FINAL_C',\n",
       " 'AM18DO1_R_FINAL_C',\n",
       " 'AM18DO2_N_FINAL_R',\n",
       " 'AM19DO1_J_FINAL_R',\n",
       " 'AM19DO2_R_FINAL_C',\n",
       " 'AM20DO1_R_FINAL_C',\n",
       " 'AM20DO2_R_FINAL_C',\n",
       " 'AM21DO1_R_FINAL_C',\n",
       " 'AM21DO2_M_FINAL_C',\n",
       " 'AM22DO1_R_FINAL_C',\n",
       " 'AM22DO2_R_FINAL_C',\n",
       " 'AM24DO1_R_FINAL_C',\n",
       " 'AM24DO2_M_FINAL_R',\n",
       " 'AM24DO2_R_FINAL_C',\n",
       " 'AM25DO1_R_FINAL_C',\n",
       " 'AM25DO2_M_FINAL_R',\n",
       " 'AM26DO1_R_FINAL_C',\n",
       " 'AM26DO2_R_copyA_FINAL_C',\n",
       " 'AM26DO2_R_copyB_FINAL_C',\n",
       " 'AM27DO1_R_FINAL_C',\n",
       " 'AM27DO2_R_FINAL_C'}"
      ]
     },
     "execution_count": 5,
     "metadata": {},
     "output_type": "execute_result"
    }
   ],
   "source": [
    "ground_truth_log = pd.read_csv(\"/Users/samhsu/Documents/THESIS/Data/best_obs_onesheet.csv\")\n",
    "# Get the names of the observations and remove the observations we excluded\n",
    "observations = set(ground_truth_log['Observation'])\n",
    "observations.remove(\"AM10DO1_R_FINAL_C\")\n",
    "observations.remove(\"AM02DO2_J_copyB_FINAL_R\") \n",
    "observations.remove(\"AM11DO1_N_copyB_FINAL_C\") \n",
    "observations.remove(\"AM15DO2_M_copyB_FINAL_C\") \n",
    "observations.remove(\"AM15DO2_N_copyB_FINAL\")\n",
    "observations"
   ]
  },
  {
   "cell_type": "code",
   "execution_count": 6,
   "metadata": {},
   "outputs": [],
   "source": [
    "def build_giant_ground_truth():\n",
    "    giant_ground_truth = pd.DataFrame()\n",
    "    size_check = 0\n",
    "    \n",
    "    for obs in observations:\n",
    "        ground_truth = read_ground_truth(obs)\n",
    "        ground_truth = ground_truth[:-1]\n",
    "        giant_ground_truth = giant_ground_truth.append(ground_truth)\n",
    "        \n",
    "    return giant_ground_truth"
   ]
  },
  {
   "cell_type": "code",
   "execution_count": 7,
   "metadata": {},
   "outputs": [],
   "source": [
    "giant_ground_truth = build_giant_ground_truth()"
   ]
  },
  {
   "cell_type": "code",
   "execution_count": 8,
   "metadata": {},
   "outputs": [],
   "source": [
    "giant_ground_truth.to_csv('groundtruth.csv')"
   ]
  },
  {
   "cell_type": "code",
   "execution_count": 9,
   "metadata": {},
   "outputs": [
    {
     "data": {
      "text/html": [
       "<div>\n",
       "<style scoped>\n",
       "    .dataframe tbody tr th:only-of-type {\n",
       "        vertical-align: middle;\n",
       "    }\n",
       "\n",
       "    .dataframe tbody tr th {\n",
       "        vertical-align: top;\n",
       "    }\n",
       "\n",
       "    .dataframe thead th {\n",
       "        text-align: right;\n",
       "    }\n",
       "</style>\n",
       "<table border=\"1\" class=\"dataframe\">\n",
       "  <thead>\n",
       "    <tr style=\"text-align: right;\">\n",
       "      <th></th>\n",
       "      <th>Unnamed: 0</th>\n",
       "      <th>observation</th>\n",
       "      <th>date</th>\n",
       "      <th>coding</th>\n",
       "      <th>primary_behavior</th>\n",
       "      <th>primary_posture</th>\n",
       "      <th>primary_upperbody</th>\n",
       "      <th>primary_intensity</th>\n",
       "      <th>secondary_behavior</th>\n",
       "      <th>secondary_posture</th>\n",
       "      <th>secondary_upperbody</th>\n",
       "      <th>secondary_intensity</th>\n",
       "      <th>num_postures</th>\n",
       "      <th>transition</th>\n",
       "      <th>actual_time</th>\n",
       "      <th>time</th>\n",
       "    </tr>\n",
       "  </thead>\n",
       "  <tbody>\n",
       "    <tr>\n",
       "      <th>0</th>\n",
       "      <td>1</td>\n",
       "      <td>AM08DO1_J_copyA_FINAL_R</td>\n",
       "      <td>05-06-2018</td>\n",
       "      <td>non-sedentary</td>\n",
       "      <td>LES- socializing, communicating, leisure time ...</td>\n",
       "      <td>LA- stand and move</td>\n",
       "      <td>unknown</td>\n",
       "      <td>light</td>\n",
       "      <td>None</td>\n",
       "      <td>None</td>\n",
       "      <td>None</td>\n",
       "      <td>None</td>\n",
       "      <td>1</td>\n",
       "      <td>0</td>\n",
       "      <td>09:08:47</td>\n",
       "      <td>0</td>\n",
       "    </tr>\n",
       "    <tr>\n",
       "      <th>1</th>\n",
       "      <td>2</td>\n",
       "      <td>AM08DO1_J_copyA_FINAL_R</td>\n",
       "      <td>05-06-2018</td>\n",
       "      <td>non-sedentary</td>\n",
       "      <td>LES- socializing, communicating, leisure time ...</td>\n",
       "      <td>LA- stand and move</td>\n",
       "      <td>unknown</td>\n",
       "      <td>light</td>\n",
       "      <td>None</td>\n",
       "      <td>None</td>\n",
       "      <td>None</td>\n",
       "      <td>None</td>\n",
       "      <td>1</td>\n",
       "      <td>0</td>\n",
       "      <td>09:08:48</td>\n",
       "      <td>1</td>\n",
       "    </tr>\n",
       "    <tr>\n",
       "      <th>2</th>\n",
       "      <td>3</td>\n",
       "      <td>AM08DO1_J_copyA_FINAL_R</td>\n",
       "      <td>05-06-2018</td>\n",
       "      <td>non-sedentary</td>\n",
       "      <td>LES- socializing, communicating, leisure time ...</td>\n",
       "      <td>LA- stand and move</td>\n",
       "      <td>unknown</td>\n",
       "      <td>light</td>\n",
       "      <td>None</td>\n",
       "      <td>None</td>\n",
       "      <td>None</td>\n",
       "      <td>None</td>\n",
       "      <td>1</td>\n",
       "      <td>0</td>\n",
       "      <td>09:08:49</td>\n",
       "      <td>2</td>\n",
       "    </tr>\n",
       "    <tr>\n",
       "      <th>3</th>\n",
       "      <td>4</td>\n",
       "      <td>AM08DO1_J_copyA_FINAL_R</td>\n",
       "      <td>05-06-2018</td>\n",
       "      <td>non-sedentary</td>\n",
       "      <td>LES- socializing, communicating, leisure time ...</td>\n",
       "      <td>LA- stand and move</td>\n",
       "      <td>unknown</td>\n",
       "      <td>light</td>\n",
       "      <td>None</td>\n",
       "      <td>None</td>\n",
       "      <td>None</td>\n",
       "      <td>None</td>\n",
       "      <td>1</td>\n",
       "      <td>0</td>\n",
       "      <td>09:08:50</td>\n",
       "      <td>3</td>\n",
       "    </tr>\n",
       "    <tr>\n",
       "      <th>4</th>\n",
       "      <td>5</td>\n",
       "      <td>AM08DO1_J_copyA_FINAL_R</td>\n",
       "      <td>05-06-2018</td>\n",
       "      <td>non-sedentary</td>\n",
       "      <td>LES- socializing, communicating, leisure time ...</td>\n",
       "      <td>LA- stand and move</td>\n",
       "      <td>unknown</td>\n",
       "      <td>light</td>\n",
       "      <td>None</td>\n",
       "      <td>None</td>\n",
       "      <td>None</td>\n",
       "      <td>None</td>\n",
       "      <td>1</td>\n",
       "      <td>0</td>\n",
       "      <td>09:08:51</td>\n",
       "      <td>4</td>\n",
       "    </tr>\n",
       "  </tbody>\n",
       "</table>\n",
       "</div>"
      ],
      "text/plain": [
       "   Unnamed: 0              observation        date         coding  \\\n",
       "0           1  AM08DO1_J_copyA_FINAL_R  05-06-2018  non-sedentary   \n",
       "1           2  AM08DO1_J_copyA_FINAL_R  05-06-2018  non-sedentary   \n",
       "2           3  AM08DO1_J_copyA_FINAL_R  05-06-2018  non-sedentary   \n",
       "3           4  AM08DO1_J_copyA_FINAL_R  05-06-2018  non-sedentary   \n",
       "4           5  AM08DO1_J_copyA_FINAL_R  05-06-2018  non-sedentary   \n",
       "\n",
       "                                    primary_behavior     primary_posture  \\\n",
       "0  LES- socializing, communicating, leisure time ...  LA- stand and move   \n",
       "1  LES- socializing, communicating, leisure time ...  LA- stand and move   \n",
       "2  LES- socializing, communicating, leisure time ...  LA- stand and move   \n",
       "3  LES- socializing, communicating, leisure time ...  LA- stand and move   \n",
       "4  LES- socializing, communicating, leisure time ...  LA- stand and move   \n",
       "\n",
       "  primary_upperbody primary_intensity secondary_behavior secondary_posture  \\\n",
       "0           unknown             light               None              None   \n",
       "1           unknown             light               None              None   \n",
       "2           unknown             light               None              None   \n",
       "3           unknown             light               None              None   \n",
       "4           unknown             light               None              None   \n",
       "\n",
       "  secondary_upperbody secondary_intensity  num_postures  transition  \\\n",
       "0                None                None             1           0   \n",
       "1                None                None             1           0   \n",
       "2                None                None             1           0   \n",
       "3                None                None             1           0   \n",
       "4                None                None             1           0   \n",
       "\n",
       "  actual_time  time  \n",
       "0    09:08:47     0  \n",
       "1    09:08:48     1  \n",
       "2    09:08:49     2  \n",
       "3    09:08:50     3  \n",
       "4    09:08:51     4  "
      ]
     },
     "execution_count": 9,
     "metadata": {},
     "output_type": "execute_result"
    }
   ],
   "source": [
    "giant_ground_truth.head()"
   ]
  },
  {
   "cell_type": "code",
   "execution_count": 10,
   "metadata": {},
   "outputs": [],
   "source": [
    "rf_coding = pd.read_csv('/Users/samhsu/Documents/THESIS/Code/KineseItUp/Capstone/rf_new_sed_complete.csv')\n",
    "knn_coding = pd.read_csv('/Users/samhsu/Documents/THESIS/Code/KineseItUp/Capstone/knn_new_sed_complete.csv')\n",
    "gb_coding = pd.read_csv('/Users/samhsu/Documents/THESIS/Code/KineseItUp/Capstone/gradient_boosting_new_sed_complete.csv')"
   ]
  },
  {
   "cell_type": "code",
   "execution_count": 47,
   "metadata": {},
   "outputs": [
    {
     "data": {
      "text/plain": [
       "['W-10', 'W-13', 'W-14', 'W-15', 'W-16', 'W-17', 'W-19', 'W-21', 'W-4', 'W-9']"
      ]
     },
     "execution_count": 47,
     "metadata": {},
     "output_type": "execute_result"
    }
   ],
   "source": [
    "rf_types = rf_coding['type'].value_counts().sort_index().index.tolist()\n",
    "rf_active_types = rf_types[:11]\n",
    "rf_errand_types = rf_types[11:21]\n",
    "rf_household_types = rf_types[21:30]\n",
    "rf_leisure_types = rf_types[30:40]\n",
    "rf_work_types = rf_types[40:]"
   ]
  },
  {
   "cell_type": "code",
   "execution_count": 89,
   "metadata": {
    "scrolled": false
   },
   "outputs": [
    {
     "data": {
      "text/plain": [
       "non-sedentary    57947\n",
       "sedentary        22833\n",
       "Name: predicted, dtype: int64"
      ]
     },
     "execution_count": 89,
     "metadata": {},
     "output_type": "execute_result"
    }
   ],
   "source": [
    "rf_active = rf_coding.loc[rf_coding['type'].isin(rf_active_types)]\n",
    "rf_active['predicted'].value_counts()"
   ]
  },
  {
   "cell_type": "code",
   "execution_count": 90,
   "metadata": {},
   "outputs": [
    {
     "data": {
      "text/plain": [
       "non-sedentary    41035\n",
       "sedentary        27048\n",
       "Name: predicted, dtype: int64"
      ]
     },
     "execution_count": 90,
     "metadata": {},
     "output_type": "execute_result"
    }
   ],
   "source": [
    "rf_errands = rf_coding.loc[rf_coding['type'].isin(rf_errand_types)]\n",
    "rf_errands['predicted'].value_counts()"
   ]
  },
  {
   "cell_type": "code",
   "execution_count": 91,
   "metadata": {},
   "outputs": [
    {
     "data": {
      "text/plain": [
       "non-sedentary    39998\n",
       "sedentary        23994\n",
       "Name: predicted, dtype: int64"
      ]
     },
     "execution_count": 91,
     "metadata": {},
     "output_type": "execute_result"
    }
   ],
   "source": [
    "rf_household = rf_coding.loc[rf_coding['type'].isin(rf_household_types)]\n",
    "rf_household['predicted'].value_counts()"
   ]
  },
  {
   "cell_type": "code",
   "execution_count": 92,
   "metadata": {},
   "outputs": [
    {
     "data": {
      "text/plain": [
       "sedentary        52858\n",
       "non-sedentary    14514\n",
       "Name: predicted, dtype: int64"
      ]
     },
     "execution_count": 92,
     "metadata": {},
     "output_type": "execute_result"
    }
   ],
   "source": [
    "rf_leisure = rf_coding.loc[rf_coding['type'].isin(rf_leisure_types)]\n",
    "rf_leisure['predicted'].value_counts()"
   ]
  },
  {
   "cell_type": "code",
   "execution_count": 93,
   "metadata": {},
   "outputs": [
    {
     "data": {
      "text/plain": [
       "sedentary        45037\n",
       "non-sedentary    22911\n",
       "Name: predicted, dtype: int64"
      ]
     },
     "execution_count": 93,
     "metadata": {},
     "output_type": "execute_result"
    }
   ],
   "source": [
    "rf_work = rf_coding.loc[rf_coding['type'].isin(rf_work_types)]\n",
    "rf_work['predicted'].value_counts()"
   ]
  },
  {
   "cell_type": "code",
   "execution_count": 66,
   "metadata": {},
   "outputs": [],
   "source": [
    "knn_types = knn_coding['type'].value_counts().sort_index().index.tolist()\n",
    "knn_active_types = knn_types[:11]\n",
    "knn_errand_types = knn_types[11:21]\n",
    "knn_household_types = knn_types[21:30]\n",
    "knn_leisure_types = knn_types[30:40]\n",
    "knn_work_types = knn_types[40:]"
   ]
  },
  {
   "cell_type": "code",
   "execution_count": 94,
   "metadata": {},
   "outputs": [
    {
     "data": {
      "text/plain": [
       "non-sedentary    56198\n",
       "sedentary        24582\n",
       "Name: predicted, dtype: int64"
      ]
     },
     "execution_count": 94,
     "metadata": {},
     "output_type": "execute_result"
    }
   ],
   "source": [
    "knn_active = knn_coding.loc[knn_coding['type'].isin(knn_active_types)]\n",
    "knn_active['predicted'].value_counts()"
   ]
  },
  {
   "cell_type": "code",
   "execution_count": 95,
   "metadata": {},
   "outputs": [
    {
     "data": {
      "text/plain": [
       "non-sedentary    41133\n",
       "sedentary        26950\n",
       "Name: predicted, dtype: int64"
      ]
     },
     "execution_count": 95,
     "metadata": {},
     "output_type": "execute_result"
    }
   ],
   "source": [
    "knn_errands = knn_coding.loc[knn_coding['type'].isin(knn_errand_types)]\n",
    "knn_errands['predicted'].value_counts()"
   ]
  },
  {
   "cell_type": "code",
   "execution_count": 96,
   "metadata": {},
   "outputs": [
    {
     "data": {
      "text/plain": [
       "non-sedentary    39659\n",
       "sedentary        24333\n",
       "Name: predicted, dtype: int64"
      ]
     },
     "execution_count": 96,
     "metadata": {},
     "output_type": "execute_result"
    }
   ],
   "source": [
    "knn_household = knn_coding.loc[knn_coding['type'].isin(knn_household_types)]\n",
    "knn_household['predicted'].value_counts()"
   ]
  },
  {
   "cell_type": "code",
   "execution_count": 97,
   "metadata": {},
   "outputs": [
    {
     "data": {
      "text/plain": [
       "sedentary        48317\n",
       "non-sedentary    19055\n",
       "Name: predicted, dtype: int64"
      ]
     },
     "execution_count": 97,
     "metadata": {},
     "output_type": "execute_result"
    }
   ],
   "source": [
    "knn_leisure = knn_coding.loc[knn_coding['type'].isin(knn_leisure_types)]\n",
    "knn_leisure['predicted'].value_counts()"
   ]
  },
  {
   "cell_type": "code",
   "execution_count": 98,
   "metadata": {},
   "outputs": [
    {
     "data": {
      "text/plain": [
       "sedentary        42995\n",
       "non-sedentary    24953\n",
       "Name: predicted, dtype: int64"
      ]
     },
     "execution_count": 98,
     "metadata": {},
     "output_type": "execute_result"
    }
   ],
   "source": [
    "knn_work = knn_coding.loc[knn_coding['type'].isin(knn_work_types)]\n",
    "knn_work['predicted'].value_counts()"
   ]
  },
  {
   "cell_type": "code",
   "execution_count": 80,
   "metadata": {},
   "outputs": [],
   "source": [
    "gb_types = gb_coding['type'].value_counts().sort_index().index.tolist()\n",
    "gb_active_types = gb_types[:11]\n",
    "gb_errand_types = gb_types[11:21]\n",
    "gb_household_types = gb_types[21:30]\n",
    "gb_leisure_types = gb_types[30:40]\n",
    "gb_work_types = gb_types[40:]"
   ]
  },
  {
   "cell_type": "code",
   "execution_count": 99,
   "metadata": {},
   "outputs": [
    {
     "data": {
      "text/plain": [
       "non-sedentary    56989\n",
       "sedentary        23791\n",
       "Name: predicted, dtype: int64"
      ]
     },
     "execution_count": 99,
     "metadata": {},
     "output_type": "execute_result"
    }
   ],
   "source": [
    "gb_active = gb_coding.loc[gb_coding['type'].isin(gb_active_types)]\n",
    "gb_active['predicted'].value_counts()"
   ]
  },
  {
   "cell_type": "code",
   "execution_count": 100,
   "metadata": {},
   "outputs": [
    {
     "data": {
      "text/plain": [
       "non-sedentary    42073\n",
       "sedentary        26010\n",
       "Name: predicted, dtype: int64"
      ]
     },
     "execution_count": 100,
     "metadata": {},
     "output_type": "execute_result"
    }
   ],
   "source": [
    "gb_errands = gb_coding.loc[gb_coding['type'].isin(gb_errand_types)]\n",
    "gb_errands['predicted'].value_counts()"
   ]
  },
  {
   "cell_type": "code",
   "execution_count": 101,
   "metadata": {},
   "outputs": [
    {
     "data": {
      "text/plain": [
       "non-sedentary    39824\n",
       "sedentary        24168\n",
       "Name: predicted, dtype: int64"
      ]
     },
     "execution_count": 101,
     "metadata": {},
     "output_type": "execute_result"
    }
   ],
   "source": [
    "gb_household = gb_coding.loc[gb_coding['type'].isin(gb_household_types)]\n",
    "gb_household['predicted'].value_counts()"
   ]
  },
  {
   "cell_type": "code",
   "execution_count": 102,
   "metadata": {},
   "outputs": [
    {
     "data": {
      "text/plain": [
       "sedentary        53855\n",
       "non-sedentary    13517\n",
       "Name: predicted, dtype: int64"
      ]
     },
     "execution_count": 102,
     "metadata": {},
     "output_type": "execute_result"
    }
   ],
   "source": [
    "gb_leisure = gb_coding.loc[gb_coding['type'].isin(gb_leisure_types)]\n",
    "gb_leisure['predicted'].value_counts()"
   ]
  },
  {
   "cell_type": "code",
   "execution_count": 103,
   "metadata": {},
   "outputs": [
    {
     "data": {
      "text/plain": [
       "sedentary        43008\n",
       "non-sedentary    24940\n",
       "Name: predicted, dtype: int64"
      ]
     },
     "execution_count": 103,
     "metadata": {},
     "output_type": "execute_result"
    }
   ],
   "source": [
    "gb_work = gb_coding.loc[gb_coding['type'].isin(gb_work_types)]\n",
    "gb_work['predicted'].value_counts()"
   ]
  },
  {
   "cell_type": "code",
   "execution_count": 104,
   "metadata": {},
   "outputs": [
    {
     "data": {
      "text/plain": [
       "non-sedentary    56023\n",
       "sedentary        24757\n",
       "Name: coding, dtype: int64"
      ]
     },
     "execution_count": 104,
     "metadata": {},
     "output_type": "execute_result"
    }
   ],
   "source": [
    "gb_active['coding'].value_counts()"
   ]
  },
  {
   "cell_type": "code",
   "execution_count": 105,
   "metadata": {},
   "outputs": [
    {
     "data": {
      "text/plain": [
       "non-sedentary    50701\n",
       "sedentary        17382\n",
       "Name: coding, dtype: int64"
      ]
     },
     "execution_count": 105,
     "metadata": {},
     "output_type": "execute_result"
    }
   ],
   "source": [
    "gb_errands['coding'].value_counts()"
   ]
  },
  {
   "cell_type": "code",
   "execution_count": 106,
   "metadata": {},
   "outputs": [
    {
     "data": {
      "text/plain": [
       "non-sedentary    44038\n",
       "sedentary        19954\n",
       "Name: coding, dtype: int64"
      ]
     },
     "execution_count": 106,
     "metadata": {},
     "output_type": "execute_result"
    }
   ],
   "source": [
    "gb_household['coding'].value_counts()"
   ]
  },
  {
   "cell_type": "code",
   "execution_count": 107,
   "metadata": {},
   "outputs": [
    {
     "data": {
      "text/plain": [
       "sedentary        61800\n",
       "non-sedentary     5572\n",
       "Name: coding, dtype: int64"
      ]
     },
     "execution_count": 107,
     "metadata": {},
     "output_type": "execute_result"
    }
   ],
   "source": [
    "gb_leisure['coding'].value_counts()"
   ]
  },
  {
   "cell_type": "code",
   "execution_count": 108,
   "metadata": {},
   "outputs": [
    {
     "data": {
      "text/plain": [
       "sedentary        49383\n",
       "non-sedentary    18565\n",
       "Name: coding, dtype: int64"
      ]
     },
     "execution_count": 108,
     "metadata": {},
     "output_type": "execute_result"
    }
   ],
   "source": [
    "gb_work['coding'].value_counts()"
   ]
  },
  {
   "cell_type": "code",
   "execution_count": 12,
   "metadata": {},
   "outputs": [
    {
     "data": {
      "text/plain": [
       "non-sedentary    174899\n",
       "sedentary        173276\n",
       "Name: coding, dtype: int64"
      ]
     },
     "execution_count": 12,
     "metadata": {},
     "output_type": "execute_result"
    }
   ],
   "source": [
    "rf_coding['coding'].value_counts()"
   ]
  },
  {
   "cell_type": "code",
   "execution_count": 13,
   "metadata": {},
   "outputs": [
    {
     "data": {
      "text/plain": [
       "non-sedentary    174899\n",
       "sedentary        173276\n",
       "Name: coding, dtype: int64"
      ]
     },
     "execution_count": 13,
     "metadata": {},
     "output_type": "execute_result"
    }
   ],
   "source": [
    "gb_coding['coding'].value_counts()"
   ]
  },
  {
   "cell_type": "code",
   "execution_count": null,
   "metadata": {},
   "outputs": [],
   "source": []
  }
 ],
 "metadata": {
  "kernelspec": {
   "display_name": "Python 3",
   "language": "python",
   "name": "python3"
  },
  "language_info": {
   "codemirror_mode": {
    "name": "ipython",
    "version": 3
   },
   "file_extension": ".py",
   "mimetype": "text/x-python",
   "name": "python",
   "nbconvert_exporter": "python",
   "pygments_lexer": "ipython3",
   "version": "3.6.4"
  }
 },
 "nbformat": 4,
 "nbformat_minor": 2
}
