{
 "cells": [
  {
   "cell_type": "code",
   "execution_count": 1,
   "metadata": {},
   "outputs": [],
   "source": [
    "import pandas as pd\n",
    "import json\n",
    "import sklearn.svm as svm\n",
    "import numpy as np\n",
    "from sklearn.utils import shuffle"
   ]
  },
  {
   "cell_type": "code",
   "execution_count": 4,
   "metadata": {},
   "outputs": [],
   "source": [
    "import os,sys,inspect\n",
    "currentdir = os.path.dirname(os.path.abspath(inspect.getfile(inspect.currentframe())))\n",
    "parentdir = os.path.dirname(currentdir)\n",
    "sys.path.insert(0,'/Users/samhsu/Documents/THESIS/Code/KineseItUp/Capstone')"
   ]
  },
  {
   "cell_type": "code",
   "execution_count": 5,
   "metadata": {},
   "outputs": [],
   "source": [
    "import script as sc"
   ]
  },
  {
   "cell_type": "code",
   "execution_count": 13,
   "metadata": {},
   "outputs": [],
   "source": [
    "def load_Data(user, filename):\n",
    "   data = json.load(open('/Users/samhsu/Documents/THESIS/Code/KineseItUp/Capstone/dir.json'))\n",
    "   return (data[user] + filename)"
   ]
  },
  {
   "cell_type": "code",
   "execution_count": 18,
   "metadata": {},
   "outputs": [],
   "source": [
    "def load_struct():\n",
    "    data = json.load(open('/Users/samhsu/Documents/THESIS/Code/KineseItUp/Capstone/fullStruct.json'))\n",
    "    return data"
   ]
  },
  {
   "cell_type": "code",
   "execution_count": 19,
   "metadata": {},
   "outputs": [],
   "source": [
    "filelist = load_struct()\n",
    "observedData = pd.DataFrame()\n",
    "user = \"Sam\""
   ]
  },
  {
   "cell_type": "code",
   "execution_count": 20,
   "metadata": {},
   "outputs": [
    {
     "data": {
      "text/plain": [
       "{'AG': 'AG1-01.csv',\n",
       " 'EndTime1': '2017-10-03 20:44:45',\n",
       " 'EndTime2': '2017-10-06 18:43:57',\n",
       " 'GT1': 'AM01DO1_J_FINAL_R_sed_second_codings.csv',\n",
       " 'GT2': 'AM01DO2_M_FINAL_R_sed_second_codings.csv',\n",
       " 'Raw': 'AG_AM01WRT (2017-10-02)RAW.csv',\n",
       " 'StartTime1': '2017-10-03 18:44:45',\n",
       " 'StartTime2': '2017-10-06 16:43:57',\n",
       " 'Type1': 'L',\n",
       " 'Type2': 'H',\n",
       " 'WIDE': 'WIDE-01-01.csv',\n",
       " 'skiplines1': '29515680',\n",
       " 'skiplines2': '9946800'}"
      ]
     },
     "execution_count": 20,
     "metadata": {},
     "output_type": "execute_result"
    }
   ],
   "source": [
    "files = filelist[\"1\"]\n",
    "files"
   ]
  },
  {
   "cell_type": "code",
   "execution_count": 22,
   "metadata": {},
   "outputs": [],
   "source": [
    "data = pd.read_csv(load_Data(user, files[\"AG\"]), header=0)\n",
    "gt1 = pd.read_csv(load_Data(user, files[\"GT1\"]), header=0)\n",
    "type1 = files[\"GT1\"][2]\n",
    "start1 = files[\"StartTime1\"]\n",
    "end1 = files[\"EndTime1\"]"
   ]
  },
  {
   "cell_type": "code",
   "execution_count": 23,
   "metadata": {},
   "outputs": [
    {
     "data": {
      "text/html": [
       "<div>\n",
       "<style scoped>\n",
       "    .dataframe tbody tr th:only-of-type {\n",
       "        vertical-align: middle;\n",
       "    }\n",
       "\n",
       "    .dataframe tbody tr th {\n",
       "        vertical-align: top;\n",
       "    }\n",
       "\n",
       "    .dataframe thead th {\n",
       "        text-align: right;\n",
       "    }\n",
       "</style>\n",
       "<table border=\"1\" class=\"dataframe\">\n",
       "  <thead>\n",
       "    <tr style=\"text-align: right;\">\n",
       "      <th></th>\n",
       "      <th>Unnamed: 0</th>\n",
       "      <th>mean.vm</th>\n",
       "      <th>sd.vm</th>\n",
       "      <th>mean.ang</th>\n",
       "      <th>sd.ang</th>\n",
       "      <th>p625</th>\n",
       "      <th>dfreq</th>\n",
       "      <th>ratio.df</th>\n",
       "      <th>sed.rf</th>\n",
       "      <th>start.time</th>\n",
       "    </tr>\n",
       "  </thead>\n",
       "  <tbody>\n",
       "    <tr>\n",
       "      <th>0</th>\n",
       "      <td>1</td>\n",
       "      <td>1.008720</td>\n",
       "      <td>0.005388</td>\n",
       "      <td>14.405906</td>\n",
       "      <td>0.178485</td>\n",
       "      <td>0.073094</td>\n",
       "      <td>6.153846</td>\n",
       "      <td>0.079059</td>\n",
       "      <td>sedentary</td>\n",
       "      <td>2017-10-02 10:15:00</td>\n",
       "    </tr>\n",
       "    <tr>\n",
       "      <th>1</th>\n",
       "      <td>2</td>\n",
       "      <td>1.008625</td>\n",
       "      <td>0.006601</td>\n",
       "      <td>14.444647</td>\n",
       "      <td>0.234531</td>\n",
       "      <td>0.074642</td>\n",
       "      <td>4.102564</td>\n",
       "      <td>0.174183</td>\n",
       "      <td>sedentary</td>\n",
       "      <td>2017-10-02 10:15:01</td>\n",
       "    </tr>\n",
       "    <tr>\n",
       "      <th>2</th>\n",
       "      <td>3</td>\n",
       "      <td>1.018935</td>\n",
       "      <td>0.023567</td>\n",
       "      <td>12.862005</td>\n",
       "      <td>2.996361</td>\n",
       "      <td>0.309095</td>\n",
       "      <td>1.025641</td>\n",
       "      <td>0.158892</td>\n",
       "      <td>sedentary</td>\n",
       "      <td>2017-10-02 10:15:02</td>\n",
       "    </tr>\n",
       "    <tr>\n",
       "      <th>3</th>\n",
       "      <td>4</td>\n",
       "      <td>1.019761</td>\n",
       "      <td>0.066683</td>\n",
       "      <td>-1.952166</td>\n",
       "      <td>12.679718</td>\n",
       "      <td>0.114479</td>\n",
       "      <td>2.051282</td>\n",
       "      <td>0.101853</td>\n",
       "      <td>sedentary</td>\n",
       "      <td>2017-10-02 10:15:03</td>\n",
       "    </tr>\n",
       "    <tr>\n",
       "      <th>4</th>\n",
       "      <td>5</td>\n",
       "      <td>1.043682</td>\n",
       "      <td>0.056193</td>\n",
       "      <td>-16.001678</td>\n",
       "      <td>5.775647</td>\n",
       "      <td>0.217691</td>\n",
       "      <td>1.025641</td>\n",
       "      <td>0.149609</td>\n",
       "      <td>sedentary</td>\n",
       "      <td>2017-10-02 10:15:04</td>\n",
       "    </tr>\n",
       "  </tbody>\n",
       "</table>\n",
       "</div>"
      ],
      "text/plain": [
       "   Unnamed: 0   mean.vm     sd.vm   mean.ang     sd.ang      p625     dfreq  \\\n",
       "0           1  1.008720  0.005388  14.405906   0.178485  0.073094  6.153846   \n",
       "1           2  1.008625  0.006601  14.444647   0.234531  0.074642  4.102564   \n",
       "2           3  1.018935  0.023567  12.862005   2.996361  0.309095  1.025641   \n",
       "3           4  1.019761  0.066683  -1.952166  12.679718  0.114479  2.051282   \n",
       "4           5  1.043682  0.056193 -16.001678   5.775647  0.217691  1.025641   \n",
       "\n",
       "   ratio.df     sed.rf           start.time  \n",
       "0  0.079059  sedentary  2017-10-02 10:15:00  \n",
       "1  0.174183  sedentary  2017-10-02 10:15:01  \n",
       "2  0.158892  sedentary  2017-10-02 10:15:02  \n",
       "3  0.101853  sedentary  2017-10-02 10:15:03  \n",
       "4  0.149609  sedentary  2017-10-02 10:15:04  "
      ]
     },
     "execution_count": 23,
     "metadata": {},
     "output_type": "execute_result"
    }
   ],
   "source": [
    "data.head()"
   ]
  },
  {
   "cell_type": "code",
   "execution_count": 25,
   "metadata": {},
   "outputs": [],
   "source": [
    "def useable_Data(data, gt, timeStart, timeEnd):\n",
    "    data['start.time'] = pd.to_datetime(data['start.time'])\n",
    "    observedData = data[(data['start.time'] >= timeStart) & (data['start.time'] <= timeEnd)]\n",
    "    observedData['index'] = range(len(observedData))\n",
    "    gt['index'] = gt['time']\n",
    "    observedData = pd.merge(observedData,gt[['index', 'coding', 'primary_behavior','primary_posture', 'primary_upperbody', 'primary_intensity',\n",
    "                                             'secondary_behavior', 'secondary_posture', 'secondary_upperbody', 'secondary_intensity',\n",
    "                                             'num_postures', 'transition', 'actual_time']])\n",
    "    observedData.sort_index(inplace=True)\n",
    "    observedData = observedData[observedData['primary_posture'] != 'private/not coded']\n",
    "    return observedData"
   ]
  },
  {
   "cell_type": "code",
   "execution_count": 26,
   "metadata": {},
   "outputs": [
    {
     "name": "stderr",
     "output_type": "stream",
     "text": [
      "/Users/samhsu/anaconda3/lib/python3.6/site-packages/ipykernel_launcher.py:4: SettingWithCopyWarning: \n",
      "A value is trying to be set on a copy of a slice from a DataFrame.\n",
      "Try using .loc[row_indexer,col_indexer] = value instead\n",
      "\n",
      "See the caveats in the documentation: http://pandas.pydata.org/pandas-docs/stable/indexing.html#indexing-view-versus-copy\n",
      "  after removing the cwd from sys.path.\n"
     ]
    },
    {
     "ename": "NameError",
     "evalue": "name 'subject' is not defined",
     "output_type": "error",
     "traceback": [
      "\u001b[0;31m---------------------------------------------------------------------------\u001b[0m",
      "\u001b[0;31mNameError\u001b[0m                                 Traceback (most recent call last)",
      "\u001b[0;32m<ipython-input-26-0586da272fd3>\u001b[0m in \u001b[0;36m<module>\u001b[0;34m()\u001b[0m\n\u001b[1;32m      1\u001b[0m \u001b[0mobservedData\u001b[0m \u001b[0;34m=\u001b[0m \u001b[0mpd\u001b[0m\u001b[0;34m.\u001b[0m\u001b[0mDataFrame\u001b[0m\u001b[0;34m(\u001b[0m\u001b[0museable_Data\u001b[0m\u001b[0;34m(\u001b[0m\u001b[0mdata\u001b[0m\u001b[0;34m,\u001b[0m \u001b[0mgt1\u001b[0m\u001b[0;34m,\u001b[0m \u001b[0mstart1\u001b[0m\u001b[0;34m,\u001b[0m \u001b[0mend1\u001b[0m\u001b[0;34m)\u001b[0m\u001b[0;34m)\u001b[0m\u001b[0;34m\u001b[0m\u001b[0m\n\u001b[1;32m      2\u001b[0m \u001b[0;34m\u001b[0m\u001b[0m\n\u001b[0;32m----> 3\u001b[0;31m \u001b[0mobservedData\u001b[0m\u001b[0;34m[\u001b[0m\u001b[0;34m'type'\u001b[0m\u001b[0;34m]\u001b[0m \u001b[0;34m=\u001b[0m \u001b[0mtype1\u001b[0m \u001b[0;34m+\u001b[0m \u001b[0;34m'-'\u001b[0m \u001b[0;34m+\u001b[0m \u001b[0mstr\u001b[0m\u001b[0;34m(\u001b[0m\u001b[0msubject\u001b[0m\u001b[0;34m)\u001b[0m\u001b[0;34m\u001b[0m\u001b[0m\n\u001b[0m\u001b[1;32m      4\u001b[0m \u001b[0;34m\u001b[0m\u001b[0m\n\u001b[1;32m      5\u001b[0m \u001b[0;32mif\u001b[0m\u001b[0;34m(\u001b[0m\u001b[0;34m\"GT2\"\u001b[0m \u001b[0;32min\u001b[0m \u001b[0mfiles\u001b[0m\u001b[0;34m)\u001b[0m\u001b[0;34m:\u001b[0m\u001b[0;34m\u001b[0m\u001b[0m\n",
      "\u001b[0;31mNameError\u001b[0m: name 'subject' is not defined"
     ]
    }
   ],
   "source": [
    "observedData = pd.DataFrame(useable_Data(data, gt1, start1, end1))\n",
    "\n",
    "observedData['type'] = type1 + '-' + str(subject)\n",
    "\n",
    "if(\"GT2\" in files):\n",
    "    gt2 = pd.read_csv(load_Data(user, files[\"GT2\"]), header=0)\n",
    "    type2 = files[\"GT2\"][2]\n",
    "    start2 = files[\"StartTime2\"]\n",
    "    end2 = files[\"EndTime2\"]\n",
    "    observedData1 = pd.DataFrame(useable_Data(data, gt2, start2, end2))\n",
    "    observedData1['type'] = type2 + '-' + str(subject)\n",
    "    observedData = pd.concat([observedData, observedData1])\n",
    "    \n",
    "if (\"GT3\" in files):\n",
    "    gt3 = pd.read_csv(load_Data(user, files[\"GT3\"]), header=0)\n",
    "    type3 = files[\"Type3\"]\n",
    "    start3 = files[\"StartTime3\"]\n",
    "    end3 = files[\"EndTime3\"]\n",
    "    observedData2 = pd.DataFrame(useable_Data(data, gt3, start3, end3))\n",
    "    observedData2['type'] = type3 + '-' + str(subject)\n",
    "    observedData = pd.concat([observedData, observedData2])"
   ]
  },
  {
   "cell_type": "code",
   "execution_count": null,
   "metadata": {},
   "outputs": [],
   "source": [
    "observedData1 = get_observed_data_for_subject(user, i, files[str(1)])\n",
    "observedData = pd.concat([observedData, observedData1]) "
   ]
  },
  {
   "cell_type": "code",
   "execution_count": 4,
   "metadata": {},
   "outputs": [
    {
     "name": "stderr",
     "output_type": "stream",
     "text": [
      "C:\\Users\\Andrew\\Documents\\CalPoly\\DataCapstone\\KineseItUp\\script.py:23: SettingWithCopyWarning: \n",
      "A value is trying to be set on a copy of a slice from a DataFrame.\n",
      "Try using .loc[row_indexer,col_indexer] = value instead\n",
      "\n",
      "See the caveats in the documentation: http://pandas.pydata.org/pandas-docs/stable/indexing.html#indexing-view-versus-copy\n",
      "  observedData['index'] = range(len(observedData))\n"
     ]
    }
   ],
   "source": [
    "sc.update_staudenmeyer_complete(\"AndrewStaudenmeyer\")"
   ]
  },
  {
   "cell_type": "code",
   "execution_count": 58,
   "metadata": {},
   "outputs": [],
   "source": [
    "staudenmeyer_data = sc.get_staudenmeyer_complete(\"Sam\")"
   ]
  },
  {
   "cell_type": "code",
   "execution_count": 59,
   "metadata": {},
   "outputs": [
    {
     "data": {
      "text/html": [
       "<div>\n",
       "<style scoped>\n",
       "    .dataframe tbody tr th:only-of-type {\n",
       "        vertical-align: middle;\n",
       "    }\n",
       "\n",
       "    .dataframe tbody tr th {\n",
       "        vertical-align: top;\n",
       "    }\n",
       "\n",
       "    .dataframe thead th {\n",
       "        text-align: right;\n",
       "    }\n",
       "</style>\n",
       "<table border=\"1\" class=\"dataframe\">\n",
       "  <thead>\n",
       "    <tr style=\"text-align: right;\">\n",
       "      <th></th>\n",
       "      <th>Unnamed: 0</th>\n",
       "      <th>Unnamed: 0.1</th>\n",
       "      <th>mean.vm</th>\n",
       "      <th>sd.vm</th>\n",
       "      <th>mean.ang</th>\n",
       "      <th>sd.ang</th>\n",
       "      <th>p625</th>\n",
       "      <th>dfreq</th>\n",
       "      <th>ratio.df</th>\n",
       "      <th>sed.rf</th>\n",
       "      <th>...</th>\n",
       "      <th>primary_upperbody</th>\n",
       "      <th>primary_intensity</th>\n",
       "      <th>secondary_behavior</th>\n",
       "      <th>secondary_posture</th>\n",
       "      <th>secondary_upperbody</th>\n",
       "      <th>secondary_intensity</th>\n",
       "      <th>num_postures</th>\n",
       "      <th>transition</th>\n",
       "      <th>actual_time</th>\n",
       "      <th>type</th>\n",
       "    </tr>\n",
       "  </thead>\n",
       "  <tbody>\n",
       "    <tr>\n",
       "      <th>0</th>\n",
       "      <td>0</td>\n",
       "      <td>151728</td>\n",
       "      <td>0.973052</td>\n",
       "      <td>0.005162</td>\n",
       "      <td>8.926844</td>\n",
       "      <td>0.163774</td>\n",
       "      <td>0.033364</td>\n",
       "      <td>5.128205</td>\n",
       "      <td>0.074196</td>\n",
       "      <td>sedentary</td>\n",
       "      <td>...</td>\n",
       "      <td>unknown</td>\n",
       "      <td>light</td>\n",
       "      <td>None</td>\n",
       "      <td>None</td>\n",
       "      <td>None</td>\n",
       "      <td>None</td>\n",
       "      <td>1</td>\n",
       "      <td>0</td>\n",
       "      <td>09:08:47</td>\n",
       "      <td>E-8</td>\n",
       "    </tr>\n",
       "    <tr>\n",
       "      <th>1</th>\n",
       "      <td>1</td>\n",
       "      <td>151729</td>\n",
       "      <td>0.974118</td>\n",
       "      <td>0.005496</td>\n",
       "      <td>8.788979</td>\n",
       "      <td>0.168322</td>\n",
       "      <td>0.040105</td>\n",
       "      <td>3.076923</td>\n",
       "      <td>0.077275</td>\n",
       "      <td>sedentary</td>\n",
       "      <td>...</td>\n",
       "      <td>unknown</td>\n",
       "      <td>light</td>\n",
       "      <td>None</td>\n",
       "      <td>None</td>\n",
       "      <td>None</td>\n",
       "      <td>None</td>\n",
       "      <td>1</td>\n",
       "      <td>0</td>\n",
       "      <td>09:08:48</td>\n",
       "      <td>E-8</td>\n",
       "    </tr>\n",
       "    <tr>\n",
       "      <th>2</th>\n",
       "      <td>2</td>\n",
       "      <td>151730</td>\n",
       "      <td>0.972637</td>\n",
       "      <td>0.006454</td>\n",
       "      <td>8.950313</td>\n",
       "      <td>0.267969</td>\n",
       "      <td>0.114104</td>\n",
       "      <td>3.076923</td>\n",
       "      <td>0.084752</td>\n",
       "      <td>sedentary</td>\n",
       "      <td>...</td>\n",
       "      <td>unknown</td>\n",
       "      <td>light</td>\n",
       "      <td>None</td>\n",
       "      <td>None</td>\n",
       "      <td>None</td>\n",
       "      <td>None</td>\n",
       "      <td>1</td>\n",
       "      <td>0</td>\n",
       "      <td>09:08:49</td>\n",
       "      <td>E-8</td>\n",
       "    </tr>\n",
       "    <tr>\n",
       "      <th>3</th>\n",
       "      <td>3</td>\n",
       "      <td>151731</td>\n",
       "      <td>0.987156</td>\n",
       "      <td>0.044144</td>\n",
       "      <td>15.865226</td>\n",
       "      <td>5.317685</td>\n",
       "      <td>0.363567</td>\n",
       "      <td>1.025641</td>\n",
       "      <td>0.204195</td>\n",
       "      <td>sedentary</td>\n",
       "      <td>...</td>\n",
       "      <td>unknown</td>\n",
       "      <td>light</td>\n",
       "      <td>None</td>\n",
       "      <td>None</td>\n",
       "      <td>None</td>\n",
       "      <td>None</td>\n",
       "      <td>1</td>\n",
       "      <td>0</td>\n",
       "      <td>09:08:50</td>\n",
       "      <td>E-8</td>\n",
       "    </tr>\n",
       "    <tr>\n",
       "      <th>4</th>\n",
       "      <td>4</td>\n",
       "      <td>151732</td>\n",
       "      <td>1.006478</td>\n",
       "      <td>0.077943</td>\n",
       "      <td>30.510740</td>\n",
       "      <td>10.595555</td>\n",
       "      <td>0.138923</td>\n",
       "      <td>3.076923</td>\n",
       "      <td>0.118761</td>\n",
       "      <td>sedentary</td>\n",
       "      <td>...</td>\n",
       "      <td>unknown</td>\n",
       "      <td>light</td>\n",
       "      <td>None</td>\n",
       "      <td>None</td>\n",
       "      <td>None</td>\n",
       "      <td>None</td>\n",
       "      <td>1</td>\n",
       "      <td>0</td>\n",
       "      <td>09:08:51</td>\n",
       "      <td>E-8</td>\n",
       "    </tr>\n",
       "  </tbody>\n",
       "</table>\n",
       "<p>5 rows × 25 columns</p>\n",
       "</div>"
      ],
      "text/plain": [
       "   Unnamed: 0  Unnamed: 0.1   mean.vm     sd.vm   mean.ang     sd.ang  \\\n",
       "0           0        151728  0.973052  0.005162   8.926844   0.163774   \n",
       "1           1        151729  0.974118  0.005496   8.788979   0.168322   \n",
       "2           2        151730  0.972637  0.006454   8.950313   0.267969   \n",
       "3           3        151731  0.987156  0.044144  15.865226   5.317685   \n",
       "4           4        151732  1.006478  0.077943  30.510740  10.595555   \n",
       "\n",
       "       p625     dfreq  ratio.df     sed.rf ...  primary_upperbody  \\\n",
       "0  0.033364  5.128205  0.074196  sedentary ...            unknown   \n",
       "1  0.040105  3.076923  0.077275  sedentary ...            unknown   \n",
       "2  0.114104  3.076923  0.084752  sedentary ...            unknown   \n",
       "3  0.363567  1.025641  0.204195  sedentary ...            unknown   \n",
       "4  0.138923  3.076923  0.118761  sedentary ...            unknown   \n",
       "\n",
       "   primary_intensity secondary_behavior secondary_posture secondary_upperbody  \\\n",
       "0              light               None              None                None   \n",
       "1              light               None              None                None   \n",
       "2              light               None              None                None   \n",
       "3              light               None              None                None   \n",
       "4              light               None              None                None   \n",
       "\n",
       "  secondary_intensity num_postures transition actual_time type  \n",
       "0                None            1          0    09:08:47  E-8  \n",
       "1                None            1          0    09:08:48  E-8  \n",
       "2                None            1          0    09:08:49  E-8  \n",
       "3                None            1          0    09:08:50  E-8  \n",
       "4                None            1          0    09:08:51  E-8  \n",
       "\n",
       "[5 rows x 25 columns]"
      ]
     },
     "execution_count": 59,
     "metadata": {},
     "output_type": "execute_result"
    }
   ],
   "source": [
    "staudenmeyer_data.head()"
   ]
  },
  {
   "cell_type": "code",
   "execution_count": 47,
   "metadata": {},
   "outputs": [
    {
     "data": {
      "text/plain": [
       "Index(['Unnamed: 0', 'Unnamed: 0.1', 'mean.vm', 'sd.vm', 'mean.ang', 'sd.ang',\n",
       "       'p625', 'dfreq', 'ratio.df', 'sed.rf', 'start.time', 'index', 'coding',\n",
       "       'primary_behavior', 'primary_posture', 'primary_upperbody',\n",
       "       'primary_intensity', 'secondary_behavior', 'secondary_posture',\n",
       "       'secondary_upperbody', 'secondary_intensity', 'num_postures',\n",
       "       'transition', 'actual_time', 'type'],\n",
       "      dtype='object')"
      ]
     },
     "execution_count": 47,
     "metadata": {},
     "output_type": "execute_result"
    }
   ],
   "source": [
    "staudenmeyer_data.columns"
   ]
  },
  {
   "cell_type": "code",
   "execution_count": 48,
   "metadata": {
    "scrolled": true
   },
   "outputs": [
    {
     "data": {
      "text/plain": [
       "0         False\n",
       "1         False\n",
       "2         False\n",
       "3         False\n",
       "4         False\n",
       "5         False\n",
       "6          True\n",
       "7         False\n",
       "8          True\n",
       "9          True\n",
       "10         True\n",
       "11         True\n",
       "12         True\n",
       "13         True\n",
       "14         True\n",
       "15         True\n",
       "16        False\n",
       "17        False\n",
       "18         True\n",
       "19        False\n",
       "20         True\n",
       "21         True\n",
       "22        False\n",
       "23        False\n",
       "24        False\n",
       "25         True\n",
       "26        False\n",
       "27        False\n",
       "28         True\n",
       "29        False\n",
       "          ...  \n",
       "348145     True\n",
       "348146     True\n",
       "348147     True\n",
       "348148    False\n",
       "348149    False\n",
       "348150     True\n",
       "348151    False\n",
       "348152     True\n",
       "348153    False\n",
       "348154    False\n",
       "348155     True\n",
       "348156     True\n",
       "348157    False\n",
       "348158     True\n",
       "348159     True\n",
       "348160     True\n",
       "348161     True\n",
       "348162    False\n",
       "348163     True\n",
       "348164     True\n",
       "348165     True\n",
       "348166     True\n",
       "348167     True\n",
       "348168    False\n",
       "348169    False\n",
       "348170     True\n",
       "348171     True\n",
       "348172    False\n",
       "348173    False\n",
       "348174     True\n",
       "Length: 348175, dtype: bool"
      ]
     },
     "execution_count": 48,
     "metadata": {},
     "output_type": "execute_result"
    }
   ],
   "source": [
    "correct = staudenmeyer_data['sed.rf'] == staudenmeyer_data['coding']\n",
    "correct"
   ]
  },
  {
   "cell_type": "code",
   "execution_count": 49,
   "metadata": {},
   "outputs": [],
   "source": [
    "correct[correct] = 1"
   ]
  },
  {
   "cell_type": "code",
   "execution_count": 50,
   "metadata": {},
   "outputs": [
    {
     "data": {
      "text/plain": [
       "0.7083564299562002"
      ]
     },
     "execution_count": 50,
     "metadata": {},
     "output_type": "execute_result"
    }
   ],
   "source": [
    "sum(correct) / len(correct)"
   ]
  },
  {
   "cell_type": "code",
   "execution_count": 51,
   "metadata": {},
   "outputs": [],
   "source": [
    "staudenmeyer_data.loc[staudenmeyer_data['sed.rf'] != 'sedentary', 'sed.rf'] = 0\n",
    "staudenmeyer_data.loc[staudenmeyer_data['sed.rf'] == 'sedentary', 'sed.rf'] = 1"
   ]
  },
  {
   "cell_type": "code",
   "execution_count": 35,
   "metadata": {},
   "outputs": [
    {
     "data": {
      "text/plain": [
       "type\n",
       "A-11    4099\n",
       "A-12    3481\n",
       "A-13    2696\n",
       "A-2       22\n",
       "A-21     783\n",
       "A-24    5132\n",
       "A-26     717\n",
       "A-4     1952\n",
       "A-6     2578\n",
       "A-8     2750\n",
       "A-9     3715\n",
       "E-14    4448\n",
       "E-15    5993\n",
       "E-17    5806\n",
       "E-18    4277\n",
       "E-20    2717\n",
       "E-22    3121\n",
       "E-27    4970\n",
       "E-6     4406\n",
       "E-7     4541\n",
       "E-8     4876\n",
       "H-1     3966\n",
       "H-19    4634\n",
       "H-2     2863\n",
       "H-20    5362\n",
       "H-25    5199\n",
       "H-26    3700\n",
       "H-27    4450\n",
       "H-3     4901\n",
       "H-7     4056\n",
       "L-1     6137\n",
       "L-11    2707\n",
       "L-12    6241\n",
       "L-16    6066\n",
       "L-18    6613\n",
       "L-22    6175\n",
       "L-24    5302\n",
       "L-25    5602\n",
       "L-3     6292\n",
       "L-5     6131\n",
       "W-10    3282\n",
       "W-13    6089\n",
       "W-14    5057\n",
       "W-15    5923\n",
       "W-16    6361\n",
       "W-17    6539\n",
       "W-19    6654\n",
       "W-21    5936\n",
       "W-4     3069\n",
       "W-9     4574\n",
       "Name: sed.rf, dtype: int64"
      ]
     },
     "execution_count": 35,
     "metadata": {},
     "output_type": "execute_result"
    }
   ],
   "source": [
    "staudenmeyer_data.groupby(staudenmeyer_data['type'])['sed.rf'].sum()"
   ]
  },
  {
   "cell_type": "code",
   "execution_count": 54,
   "metadata": {},
   "outputs": [
    {
     "data": {
      "text/plain": [
       "type\n",
       "A-11    22647561\n",
       "A-12    25915497\n",
       "A-13    25510089\n",
       "A-2      4884375\n",
       "A-21    18112966\n",
       "A-24    51847144\n",
       "A-26    25900787\n",
       "A-4     25922426\n",
       "A-6     25923600\n",
       "A-8     25453075\n",
       "A-9     25922060\n",
       "E-14    25827010\n",
       "E-15    17091773\n",
       "E-17    25853851\n",
       "E-18    25923509\n",
       "E-20     7153632\n",
       "E-22    25923555\n",
       "E-27    25923572\n",
       "E-6     25818168\n",
       "E-7     25870290\n",
       "E-8     13766485\n",
       "H-1     24941370\n",
       "H-19    25852029\n",
       "H-2     25923594\n",
       "H-20    25546500\n",
       "H-25    25916169\n",
       "H-26    18460012\n",
       "H-27    25923555\n",
       "H-3     25493370\n",
       "H-7     25887267\n",
       "L-1     25923600\n",
       "L-11     4323270\n",
       "L-12    13885045\n",
       "L-16    25923600\n",
       "L-18    25322589\n",
       "L-22    26379216\n",
       "L-24    25693945\n",
       "L-25    25923429\n",
       "L-3     25631308\n",
       "L-5     25856644\n",
       "W-10    11000395\n",
       "W-13    25505387\n",
       "W-14    25766943\n",
       "W-15    25921234\n",
       "W-16    25569468\n",
       "W-17    25916400\n",
       "W-19    25487876\n",
       "W-21    25382144\n",
       "W-4     25895034\n",
       "W-9     19000530\n",
       "Name: index, dtype: int64"
      ]
     },
     "execution_count": 54,
     "metadata": {},
     "output_type": "execute_result"
    }
   ],
   "source": [
    "staudenmeyer_data.groupby(staudenmeyer_data['type'])['index'].sum()"
   ]
  },
  {
   "cell_type": "code",
   "execution_count": 55,
   "metadata": {},
   "outputs": [],
   "source": [
    "from sklearn.metrics import confusion_matrix"
   ]
  },
  {
   "cell_type": "code",
   "execution_count": 60,
   "metadata": {},
   "outputs": [
    {
     "data": {
      "text/plain": [
       "array([[ 99285,  75614],\n",
       "       [ 25929, 147347]])"
      ]
     },
     "execution_count": 60,
     "metadata": {},
     "output_type": "execute_result"
    }
   ],
   "source": [
    "confusion_matrix(staudenmeyer_data['coding'],staudenmeyer_data['sed.rf'])"
   ]
  },
  {
   "cell_type": "code",
   "execution_count": null,
   "metadata": {},
   "outputs": [],
   "source": []
  }
 ],
 "metadata": {
  "kernelspec": {
   "display_name": "Python 3",
   "language": "python",
   "name": "python3"
  },
  "language_info": {
   "codemirror_mode": {
    "name": "ipython",
    "version": 3
   },
   "file_extension": ".py",
   "mimetype": "text/x-python",
   "name": "python",
   "nbconvert_exporter": "python",
   "pygments_lexer": "ipython3",
   "version": "3.6.4"
  }
 },
 "nbformat": 4,
 "nbformat_minor": 2
}
