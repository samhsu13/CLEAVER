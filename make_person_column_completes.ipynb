{
 "cells": [
  {
   "cell_type": "code",
   "execution_count": 1,
   "metadata": {},
   "outputs": [],
   "source": [
    "import pandas as pd\n",
    "import numpy as np"
   ]
  },
  {
   "cell_type": "code",
   "execution_count": 2,
   "metadata": {},
   "outputs": [],
   "source": [
    "mydir = \"/Users/samhsu/Documents/THESIS/Out/\""
   ]
  },
  {
   "cell_type": "code",
   "execution_count": 3,
   "metadata": {},
   "outputs": [],
   "source": [
    "wrist = pd.read_csv(mydir + \"new_Actigraph_complete.csv\")\n",
    "biostamp = pd.read_csv(mydir + \"new_Biostamp_complete.csv\")"
   ]
  },
  {
   "cell_type": "code",
   "execution_count": 16,
   "metadata": {},
   "outputs": [],
   "source": [
    "wrist['person'] = wrist.type.str[2:]\n",
    "wrist.drop(['Unnamed: 0', 'Unnamed: 0.1'], axis=1)\n",
    "wrist.to_csv(\"Actigraph_person_complete.csv\")"
   ]
  },
  {
   "cell_type": "code",
   "execution_count": 17,
   "metadata": {},
   "outputs": [],
   "source": [
    "biostamp['person'] = biostamp.type.str[2:]\n",
    "biostamp.drop(['Unnamed: 0', 'Unnamed: 0.1'], axis=1)\n",
    "biostamp.to_csv(\"Biostamp_person_complete.csv\")"
   ]
  },
  {
   "cell_type": "code",
   "execution_count": null,
   "metadata": {},
   "outputs": [],
   "source": []
  }
 ],
 "metadata": {
  "kernelspec": {
   "display_name": "Python 3",
   "language": "python",
   "name": "python3"
  },
  "language_info": {
   "codemirror_mode": {
    "name": "ipython",
    "version": 3
   },
   "file_extension": ".py",
   "mimetype": "text/x-python",
   "name": "python",
   "nbconvert_exporter": "python",
   "pygments_lexer": "ipython3",
   "version": "3.6.4"
  }
 },
 "nbformat": 4,
 "nbformat_minor": 2
}
