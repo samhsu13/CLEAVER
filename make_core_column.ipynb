{
 "cells": [
  {
   "cell_type": "code",
   "execution_count": 1,
   "metadata": {},
   "outputs": [],
   "source": [
    "import pandas as pd\n",
    "import numpy as np"
   ]
  },
  {
   "cell_type": "code",
   "execution_count": 2,
   "metadata": {},
   "outputs": [],
   "source": [
    "mydir = \"/Users/samhsu/Documents/THESIS/Out/\"\n",
    "#wrist = pd.read_csv(mydir + \"Actigraph_complete23.csv\")\n",
    "biostamp = pd.read_csv(mydir + \"Biostamp_complete.csv\")"
   ]
  },
  {
   "cell_type": "code",
   "execution_count": 3,
   "metadata": {},
   "outputs": [
    {
     "data": {
      "text/html": [
       "<div>\n",
       "<style scoped>\n",
       "    .dataframe tbody tr th:only-of-type {\n",
       "        vertical-align: middle;\n",
       "    }\n",
       "\n",
       "    .dataframe tbody tr th {\n",
       "        vertical-align: top;\n",
       "    }\n",
       "\n",
       "    .dataframe thead th {\n",
       "        text-align: right;\n",
       "    }\n",
       "</style>\n",
       "<table border=\"1\" class=\"dataframe\">\n",
       "  <thead>\n",
       "    <tr style=\"text-align: right;\">\n",
       "      <th></th>\n",
       "      <th>Unnamed: 0</th>\n",
       "      <th>Unnamed: 0.1</th>\n",
       "      <th>Unnamed: 0.1.1</th>\n",
       "      <th>thigh.mean.vm</th>\n",
       "      <th>thigh.sd.vm</th>\n",
       "      <th>thigh.mean.ang</th>\n",
       "      <th>thigh.sd.ang</th>\n",
       "      <th>thigh.p625</th>\n",
       "      <th>thigh.dfreq</th>\n",
       "      <th>thigh.ratio.df</th>\n",
       "      <th>...</th>\n",
       "      <th>secondary_behavior</th>\n",
       "      <th>secondary_posture</th>\n",
       "      <th>secondary_upperbody</th>\n",
       "      <th>secondary_intensity</th>\n",
       "      <th>num_postures</th>\n",
       "      <th>transition</th>\n",
       "      <th>actual_time</th>\n",
       "      <th>posture_coding</th>\n",
       "      <th>type</th>\n",
       "      <th>posture_coding_ordinal</th>\n",
       "    </tr>\n",
       "  </thead>\n",
       "  <tbody>\n",
       "  </tbody>\n",
       "</table>\n",
       "<p>0 rows × 65 columns</p>\n",
       "</div>"
      ],
      "text/plain": [
       "Empty DataFrame\n",
       "Columns: [Unnamed: 0, Unnamed: 0.1, Unnamed: 0.1.1, thigh.mean.vm, thigh.sd.vm, thigh.mean.ang, thigh.sd.ang, thigh.p625, thigh.dfreq, thigh.ratio.df, thigh.min.x, thigh.min.y, thigh.min.z, thigh.max.x, thigh.max.y, thigh.max.z, thigh.mean.x, thigh.mean.y, thigh.mean.z, thigh.sd.x, thigh.sd.y, thigh.sd.z, thigh.mean.xy, thigh.mean.yz, thigh.mean.xz, thigh.mean.xyz, start.time, chest.mean.vm, chest.sd.vm, chest.mean.ang, chest.sd.ang, chest.p625, chest.dfreq, chest.ratio.df, chest.min.x, chest.min.y, chest.min.z, chest.max.x, chest.max.y, chest.max.z, chest.mean.x, chest.mean.y, chest.mean.z, chest.sd.x, chest.sd.y, chest.sd.z, chest.mean.xy, chest.mean.yz, chest.mean.xz, chest.mean.xyz, coding, primary_behavior, primary_posture, primary_upperbody, primary_intensity, secondary_behavior, secondary_posture, secondary_upperbody, secondary_intensity, num_postures, transition, actual_time, posture_coding, type, posture_coding_ordinal]\n",
       "Index: []\n",
       "\n",
       "[0 rows x 65 columns]"
      ]
     },
     "execution_count": 3,
     "metadata": {},
     "output_type": "execute_result"
    }
   ],
   "source": []
  },
  {
   "cell_type": "code",
   "execution_count": 3,
   "metadata": {},
   "outputs": [],
   "source": [
    "def create_tier1_column(ground_truth):\n",
    "    stand = ((ground_truth['primary_posture'] == 'LA- stand and move') \n",
    "             | (ground_truth['primary_posture'] == 'LA- stand and move with upper body movement') \n",
    "             | (ground_truth['primary_posture'] == 'LA- stand and move with unidentifiable upper body movement'))\n",
    "    walk = ((ground_truth['primary_posture'] == 'WA-walk with load') \n",
    "            | (ground_truth['primary_posture'] == 'WA- ascend stairs')\n",
    "            | (ground_truth['primary_posture'] == 'WA- descend stairs')\n",
    "            | (ground_truth['primary_posture'] == 'WA- running'))\n",
    "    sitting = ((ground_truth['primary_posture'] == 'LA- kneeling/ squatting') \n",
    "               | (ground_truth['primary_posture'] == 'LA- stretching')) & (ground_truth['primary_intensity'] == 'sedentary')\n",
    "    \n",
    "    ground_truth['posture1'] = np.where(stand, 'LA- stand',\n",
    "                                       np.where(walk, 'WA- walk',\n",
    "                                               np.where(sitting, 'SB-sitting',\n",
    "                                                       ground_truth['primary_posture'])))\n",
    "    ground_truth.drop(['Unnamed: 0', 'Unnamed: 0.1'], axis=1)\n",
    "    return ground_truth"
   ]
  },
  {
   "cell_type": "code",
   "execution_count": 4,
   "metadata": {},
   "outputs": [],
   "source": [
    "def create_tier2_column(ground_truth):\n",
    "    # absorb all types of \"LA - stand and move\" together - don't care about intensity\n",
    "    la = (ground_truth['primary_posture'] == 'LA- stand and move') | (ground_truth['primary_posture'] == 'LA- stand and move with upper body movement') | (ground_truth['primary_posture'] == 'LA- stand and move with unidentifiable upper body movement')\n",
    "\n",
    "    # absorb walk and walk w/ load\n",
    "    wa = (ground_truth['primary_posture'] == 'WA- walk') | (ground_truth['primary_posture'] == 'WA-walk with load')\n",
    "\n",
    "    # absorb \"LA - kneeling/squatting\" and \"LA - stretching\"\n",
    "    kneel_squat_stretch = (ground_truth['primary_posture'] == 'LA- kneeling/ squatting') | (ground_truth['primary_posture'] == 'LA- stretching')\n",
    "\n",
    "    # absorb \"LA - kneeling/squatting\"/\"LA-stretching\" into \"SB-sitting\" if sedentary\n",
    "    sed_kneel_squat_stretch = kneel_squat_stretch & (ground_truth['primary_intensity'] == 'sedentary')\n",
    "\n",
    "\n",
    "    ground_truth['posture2'] = np.where(la, 'LA- stand and move',\n",
    "                                            np.where(wa, 'WA- walk',\n",
    "                                                    np.where(sed_kneel_squat_stretch, 'SB-sitting',\n",
    "                                                             ground_truth['primary_posture'])))\n",
    "    \n",
    "    return ground_truth"
   ]
  },
  {
   "cell_type": "code",
   "execution_count": 4,
   "metadata": {},
   "outputs": [],
   "source": [
    "def create_MET_column(ground_truth):\n",
    "    sed = ((ground_truth['primary_posture'] == 'SB-sitting') | \n",
    "           (ground_truth['primary_posture'] == 'SB- lying') |\n",
    "           (ground_truth['primary_posture'] == 'LA- kneeling/ squatting'))\n",
    "    light = ((ground_truth['primary_posture'] == 'LA- stand')\n",
    "             | (ground_truth['primary_posture'] == 'LA- stand and move') \n",
    "             | (ground_truth['primary_posture'] == 'LA- stand and move with upper body movement') \n",
    "             | (ground_truth['primary_posture'] == 'LA- stand and move with unidentifiable upper body movement'))\n",
    "    moderate = ((ground_truth['primary_posture'] == 'WA- walk')\n",
    "                | (ground_truth['primary_posture'] == 'WA-walk with load') \n",
    "                | (ground_truth['primary_posture'] == 'WA- ascend stairs')\n",
    "                | (ground_truth['primary_posture'] == 'WA- descend stairs'))\n",
    "    vigorous = ((ground_truth['primary_posture'] == 'WA- running')\n",
    "               | (ground_truth['primary_posture'] == 'SP- bike')\n",
    "               | (ground_truth['primary_posture'] == 'SP- other sport movement'))\n",
    "    \n",
    "    ground_truth['MET_coding'] == np.where(sed, 'sedentary',\n",
    "                                          np.where(light, 'light',\n",
    "                                                  np.where(moderate, 'moderate',\n",
    "                                                          np.where(vigorous, 'vigorous',\n",
    "                                                                  ground_truth['primary_posture']))))\n",
    "    \n",
    "    return ground_truth"
   ]
  },
  {
   "cell_type": "code",
   "execution_count": 5,
   "metadata": {},
   "outputs": [],
   "source": [
    "def create_Ellis_column(ground_truth):\n",
    "    driving = ((ground_truth['primary_behavior'] == 'TRAV- passenger (Car/truck/motorcycle)') |\n",
    "               (ground_truth['primary_behavior'] == 'TRAV- driver (Car/truck/motorcycle)') |\n",
    "               (ground_truth['primary_behavior'] == 'TRAV- passenger bus or train'))\n",
    "    sit = ((ground_truth['primary_posture'] == 'SB-sitting') | \n",
    "           (ground_truth['primary_posture'] == 'SB- lying') |\n",
    "           (ground_truth['primary_posture'] == 'LA- kneeling/ squatting'))\n",
    "    standing = ((ground_truth['primary_posture'] == 'LA- stand')\n",
    "             | (ground_truth['primary_posture'] == 'LA- stand and move') \n",
    "             | (ground_truth['primary_posture'] == 'LA- stand and move with upper body movement') \n",
    "             | (ground_truth['primary_posture'] == 'LA- stand and move with unidentifiable upper body movement'))\n",
    "    walking = ((ground_truth['primary_posture'] == 'WA- walk')\n",
    "                | (ground_truth['primary_posture'] == 'WA-walk with load') \n",
    "                | (ground_truth['primary_posture'] == 'WA- ascend stairs')\n",
    "                | (ground_truth['primary_posture'] == 'WA- descend stairs')\n",
    "                | (ground_truth['primary_posture'] == 'WA- running'))\n",
    "    other = ((ground_truth['primary_posture'] == 'SP- bike')\n",
    "               | (ground_truth['primary_posture'] == 'SP- other sport movement'))\n",
    "    \n",
    "    ground_truth['Ellis_coding'] = np.where(driving, 'riding in vehicle',\n",
    "                                           np.where(sit, 'sitting',\n",
    "                                                   np.where(standing, 'standing',\n",
    "                                                           np.where(walking, 'walking/running',\n",
    "                                                                   np.where(other, 'other',\n",
    "                                                                           ground_truth['primary_posture'])))))\n",
    "        \n",
    "               "
   ]
  },
  {
   "cell_type": "code",
   "execution_count": 7,
   "metadata": {},
   "outputs": [
    {
     "data": {
      "text/plain": [
       "['Unnamed: 0',\n",
       " 'Unnamed: 0.1',\n",
       " 'Unnamed: 0.1.1',\n",
       " 'thigh.mean.vm',\n",
       " 'thigh.sd.vm',\n",
       " 'thigh.mean.ang',\n",
       " 'thigh.sd.ang',\n",
       " 'thigh.p625',\n",
       " 'thigh.dfreq',\n",
       " 'thigh.ratio.df',\n",
       " 'thigh.min.x',\n",
       " 'thigh.min.y',\n",
       " 'thigh.min.z',\n",
       " 'thigh.max.x',\n",
       " 'thigh.max.y',\n",
       " 'thigh.max.z',\n",
       " 'thigh.mean.x',\n",
       " 'thigh.mean.y',\n",
       " 'thigh.mean.z',\n",
       " 'thigh.sd.x',\n",
       " 'thigh.sd.y',\n",
       " 'thigh.sd.z',\n",
       " 'thigh.mean.xy',\n",
       " 'thigh.mean.yz',\n",
       " 'thigh.mean.xz',\n",
       " 'thigh.mean.xyz',\n",
       " 'start.time',\n",
       " 'chest.mean.vm',\n",
       " 'chest.sd.vm',\n",
       " 'chest.mean.ang',\n",
       " 'chest.sd.ang',\n",
       " 'chest.p625',\n",
       " 'chest.dfreq',\n",
       " 'chest.ratio.df',\n",
       " 'chest.min.x',\n",
       " 'chest.min.y',\n",
       " 'chest.min.z',\n",
       " 'chest.max.x',\n",
       " 'chest.max.y',\n",
       " 'chest.max.z',\n",
       " 'chest.mean.x',\n",
       " 'chest.mean.y',\n",
       " 'chest.mean.z',\n",
       " 'chest.sd.x',\n",
       " 'chest.sd.y',\n",
       " 'chest.sd.z',\n",
       " 'chest.mean.xy',\n",
       " 'chest.mean.yz',\n",
       " 'chest.mean.xz',\n",
       " 'chest.mean.xyz',\n",
       " 'coding',\n",
       " 'primary_behavior',\n",
       " 'primary_posture',\n",
       " 'primary_upperbody',\n",
       " 'primary_intensity',\n",
       " 'secondary_behavior',\n",
       " 'secondary_posture',\n",
       " 'secondary_upperbody',\n",
       " 'secondary_intensity',\n",
       " 'num_postures',\n",
       " 'transition',\n",
       " 'actual_time',\n",
       " 'posture_coding',\n",
       " 'type',\n",
       " 'posture_coding_ordinal']"
      ]
     },
     "execution_count": 7,
     "metadata": {},
     "output_type": "execute_result"
    }
   ],
   "source": [
    "list(biostamp)"
   ]
  },
  {
   "cell_type": "code",
   "execution_count": 6,
   "metadata": {},
   "outputs": [],
   "source": [
    "wrist = create_tier2_column(wrist)"
   ]
  },
  {
   "cell_type": "code",
   "execution_count": 34,
   "metadata": {},
   "outputs": [],
   "source": [
    "biostamp = create_tier1_column(biostamp)\n",
    "biostamp = create_tier2_column(biostamp)"
   ]
  },
  {
   "cell_type": "code",
   "execution_count": 7,
   "metadata": {},
   "outputs": [],
   "source": [
    "wrist.to_csv(\"tier_wrist_complete23.csv\")\n",
    "#biostamp.to_csv(\"tier_biostamp_complete.csv\")"
   ]
  },
  {
   "cell_type": "code",
   "execution_count": 38,
   "metadata": {},
   "outputs": [
    {
     "data": {
      "text/plain": [
       "(354912, 65)"
      ]
     },
     "execution_count": 38,
     "metadata": {},
     "output_type": "execute_result"
    }
   ],
   "source": [
    "biostamp.shape"
   ]
  },
  {
   "cell_type": "code",
   "execution_count": null,
   "metadata": {},
   "outputs": [],
   "source": []
  }
 ],
 "metadata": {
  "kernelspec": {
   "display_name": "Python 3",
   "language": "python",
   "name": "python3"
  },
  "language_info": {
   "codemirror_mode": {
    "name": "ipython",
    "version": 3
   },
   "file_extension": ".py",
   "mimetype": "text/x-python",
   "name": "python",
   "nbconvert_exporter": "python",
   "pygments_lexer": "ipython3",
   "version": "3.6.4"
  }
 },
 "nbformat": 4,
 "nbformat_minor": 2
}
