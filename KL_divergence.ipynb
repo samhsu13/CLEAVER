{
 "cells": [
  {
   "cell_type": "code",
   "execution_count": 3,
   "metadata": {},
   "outputs": [],
   "source": [
    "import numpy as np\n",
    "import pandas as pd\n",
    "import os"
   ]
  },
  {
   "cell_type": "code",
   "execution_count": 4,
   "metadata": {},
   "outputs": [],
   "source": [
    "import scipy.special\n",
    "import sklearn.metrics"
   ]
  },
  {
   "cell_type": "code",
   "execution_count": 66,
   "metadata": {},
   "outputs": [],
   "source": [
    "my_dir = \"FULL_FINAL/\"\n",
    "models = os.listdir(my_dir)\n",
    "models.remove('.DS_Store')"
   ]
  },
  {
   "cell_type": "code",
   "execution_count": 70,
   "metadata": {},
   "outputs": [
    {
     "name": "stderr",
     "output_type": "stream",
     "text": [
      "/Users/samhsu/anaconda3/lib/python3.6/site-packages/ipykernel_launcher.py:14: FutureWarning: set_value is deprecated and will be removed in a future release. Please use .at[] or .iat[] accessors instead\n",
      "  \n",
      "/Users/samhsu/anaconda3/lib/python3.6/site-packages/ipykernel_launcher.py:23: RuntimeWarning: divide by zero encountered in log\n"
     ]
    },
    {
     "name": "stdout",
     "output_type": "stream",
     "text": [
      "Chest_SVM1000 4.611529163703115\n",
      "Chest_SVM1000 inf\n",
      "Thigh_KNN100 0.03583447379448982\n",
      "Thigh_KNN100 inf\n",
      "Chest_RF15 0.020029018490233728\n",
      "Chest_RF15 inf\n",
      "Both_KNN100 0.03766972339956764\n",
      "Both_KNN100 inf\n",
      "Wrist_KNN15 0.12430390449626386\n",
      "Wrist_KNN15 inf\n",
      "Both_RF15 0.01891943265865017\n",
      "Both_RF15 inf\n",
      "Chest_KNN100 0.04235939211968683\n",
      "Chest_KNN100 inf\n",
      "Wrist_RF15 0.06335995145391927\n",
      "Wrist_RF15 inf\n",
      "Thigh_RF15 0.01707821723932982\n",
      "Thigh_RF15 inf\n"
     ]
    }
   ],
   "source": [
    "for model in models:\n",
    "    files = os.listdir(my_dir + '/' + model + '/')\n",
    "    for file in files:\n",
    "        if ('csv' in file):\n",
    "            temp = pd.read_csv(my_dir + '/' + model + '/' + file)\n",
    "            p = temp.posture_coding.value_counts()/temp.shape[0]\n",
    "            p = p.sort_index()\n",
    "            q = temp.predicted.value_counts()/temp.shape[0]\n",
    "            \n",
    "            pkeys = p.keys()\n",
    "            qkeys = q.keys()\n",
    "            for i in range(len(pkeys)):\n",
    "                if pkeys[i] not in qkeys:\n",
    "                    q = q.set_value(pkeys[i], 0)\n",
    "            \n",
    "            q = q.sort_index()\n",
    "            \n",
    "            KL_elem1 = scipy.special.kl_div(p, q)\n",
    "            KL_elem2 = scipy.special.kl_div(q, p)\n",
    "            KL_elem = KL_elem1.append(KL_elem2)\n",
    "            KL_elem.to_csv(model + \"_KL.csv\")\n",
    "            \n",
    "            KL_div1 = (q * np.log(q/p)).sum()\n",
    "            print(model + \" \" + str(KL_div1))\n",
    "            KL_div2 = (p * np.log(p/q)).sum()\n",
    "            print(model + \" \" + str(KL_div2))"
   ]
  },
  {
   "cell_type": "code",
   "execution_count": 28,
   "metadata": {},
   "outputs": [],
   "source": [
    "p = test.posture_coding.value_counts()/test.shape[0]\n",
    "p = p.sort_index()"
   ]
  },
  {
   "cell_type": "code",
   "execution_count": 31,
   "metadata": {},
   "outputs": [],
   "source": [
    "q = test.predicted.value_counts()/test.shape[0]"
   ]
  },
  {
   "cell_type": "code",
   "execution_count": 32,
   "metadata": {},
   "outputs": [
    {
     "name": "stderr",
     "output_type": "stream",
     "text": [
      "/Users/samhsu/anaconda3/lib/python3.6/site-packages/ipykernel_launcher.py:1: FutureWarning: set_value is deprecated and will be removed in a future release. Please use .at[] or .iat[] accessors instead\n",
      "  \"\"\"Entry point for launching an IPython kernel.\n"
     ]
    }
   ],
   "source": [
    "q = q.set_value('SP- other sport movement', 0)\n",
    "q = q.sort_index()"
   ]
  },
  {
   "cell_type": "code",
   "execution_count": 33,
   "metadata": {},
   "outputs": [],
   "source": [
    "kl = scipy.special.kl_div(p, q) "
   ]
  },
  {
   "cell_type": "code",
   "execution_count": 24,
   "metadata": {},
   "outputs": [],
   "source": [
    "kl.to_csv('kl.csv')"
   ]
  },
  {
   "cell_type": "code",
   "execution_count": 35,
   "metadata": {},
   "outputs": [
    {
     "name": "stderr",
     "output_type": "stream",
     "text": [
      "/Users/samhsu/anaconda3/lib/python3.6/site-packages/ipykernel_launcher.py:1: RuntimeWarning: divide by zero encountered in log\n",
      "  \"\"\"Entry point for launching an IPython kernel.\n"
     ]
    },
    {
     "data": {
      "text/plain": [
       "0.01891943265865017"
      ]
     },
     "execution_count": 35,
     "metadata": {},
     "output_type": "execute_result"
    }
   ],
   "source": [
    "kl1 = (q * np.log(q/p)).sum()\n",
    "kl1"
   ]
  },
  {
   "cell_type": "code",
   "execution_count": 34,
   "metadata": {},
   "outputs": [
    {
     "data": {
      "text/plain": [
       "LA- stand                      0.002401\n",
       "LA- stand and move light       0.001434\n",
       "LA- stand and move moderate    0.008200\n",
       "LA- stand and move vigorous    0.000408\n",
       "SB- lying                      0.000010\n",
       "SB-sitting                     0.000001\n",
       "SP- bike                       0.000535\n",
       "SP- other sport movement            inf\n",
       "WA- ascend stairs              0.000287\n",
       "WA- descend stairs             0.002578\n",
       "WA- running                    0.000015\n",
       "WA- walk light                 0.003875\n",
       "WA- walk moderate              0.000640\n",
       "WA- walk vigorous              0.008898\n",
       "Name: posture_coding, dtype: float64"
      ]
     },
     "execution_count": 34,
     "metadata": {},
     "output_type": "execute_result"
    }
   ],
   "source": [
    "kl"
   ]
  },
  {
   "cell_type": "code",
   "execution_count": 42,
   "metadata": {},
   "outputs": [
    {
     "data": {
      "text/plain": [
       "inf"
      ]
     },
     "execution_count": 42,
     "metadata": {},
     "output_type": "execute_result"
    }
   ],
   "source": [
    "kl2 = (p * np.log(p/q)).sum()\n",
    "kl2"
   ]
  },
  {
   "cell_type": "code",
   "execution_count": 41,
   "metadata": {},
   "outputs": [
    {
     "data": {
      "text/plain": [
       "LA- stand                      0.002511\n",
       "LA- stand and move light       0.001334\n",
       "LA- stand and move moderate    0.004747\n",
       "LA- stand and move vigorous    0.000171\n",
       "SB- lying                      0.000012\n",
       "SB-sitting                     0.000001\n",
       "SP- bike                       0.000491\n",
       "SP- other sport movement       0.000006\n",
       "WA- ascend stairs              0.000247\n",
       "WA- descend stairs             0.001483\n",
       "WA- running                    0.000015\n",
       "WA- walk light                 0.003199\n",
       "WA- walk moderate              0.000665\n",
       "WA- walk vigorous              0.004037\n",
       "Name: predicted, dtype: float64"
      ]
     },
     "execution_count": 41,
     "metadata": {},
     "output_type": "execute_result"
    }
   ],
   "source": [
    "k = scipy.special.kl_div(q, p) \n",
    "k"
   ]
  },
  {
   "cell_type": "code",
   "execution_count": 46,
   "metadata": {
    "scrolled": true
   },
   "outputs": [
    {
     "data": {
      "text/plain": [
       "LA- stand                      0.002401\n",
       "LA- stand and move light       0.001434\n",
       "LA- stand and move moderate    0.008200\n",
       "LA- stand and move vigorous    0.000408\n",
       "SB- lying                      0.000010\n",
       "SB-sitting                     0.000001\n",
       "SP- bike                       0.000535\n",
       "SP- other sport movement            inf\n",
       "WA- ascend stairs              0.000287\n",
       "WA- descend stairs             0.002578\n",
       "WA- running                    0.000015\n",
       "WA- walk light                 0.003875\n",
       "WA- walk moderate              0.000640\n",
       "WA- walk vigorous              0.008898\n",
       "LA- stand                      0.002511\n",
       "LA- stand and move light       0.001334\n",
       "LA- stand and move moderate    0.004747\n",
       "LA- stand and move vigorous    0.000171\n",
       "SB- lying                      0.000012\n",
       "SB-sitting                     0.000001\n",
       "SP- bike                       0.000491\n",
       "SP- other sport movement       0.000006\n",
       "WA- ascend stairs              0.000247\n",
       "WA- descend stairs             0.001483\n",
       "WA- running                    0.000015\n",
       "WA- walk light                 0.003199\n",
       "WA- walk moderate              0.000665\n",
       "WA- walk vigorous              0.004037\n",
       "dtype: float64"
      ]
     },
     "execution_count": 46,
     "metadata": {},
     "output_type": "execute_result"
    }
   ],
   "source": [
    "kl.append(k)"
   ]
  },
  {
   "cell_type": "code",
   "execution_count": 81,
   "metadata": {},
   "outputs": [],
   "source": [
    "def KL_div(my_dir):\n",
    "    models = os.listdir(my_dir)\n",
    "    #models.remove('.DS_Store')\n",
    "    #for model in models:\n",
    "     #   files = os.listdir(my_dir + '/' + model + '/')\n",
    "      #  for file in files:\n",
    "    for file in models:\n",
    "            if ('csv' in file):\n",
    "                #temp = pd.read_csv(my_dir + '/' + model + '/' + file)\n",
    "                temp = pd.read_csv(my_dir + '/' + file)\n",
    "                p = temp.MET_coding.value_counts()/temp.shape[0]\n",
    "                p = p.sort_index()\n",
    "                q = temp.MET_predicted.value_counts()/temp.shape[0]\n",
    "\n",
    "                pkeys = p.keys()\n",
    "                qkeys = q.keys()\n",
    "                for i in range(len(pkeys)):\n",
    "                    if pkeys[i] not in qkeys:\n",
    "                        q = q.set_value(pkeys[i], 0)\n",
    "\n",
    "                q = q.sort_index()\n",
    "\n",
    "                KL_elem1 = scipy.special.kl_div(p, q)\n",
    "                KL_elem2 = scipy.special.kl_div(q, p)\n",
    "                KL_elem = KL_elem1.append(KL_elem2)\n",
    "                \n",
    "                KL_div1 = (q * np.log(q/p)).sum()\n",
    "                print(file + \" \" + str(KL_div1))\n",
    "                KL_div2 = (p * np.log(p/q)).sum()\n",
    "                print(file + \" \" + str(KL_div2))\n",
    "                KL_elem = KL_elem.set_value(\"KL_div1\", KL_div1)\n",
    "                KL_elem = KL_elem.set_value(\"KL_div2\", KL_div2)\n",
    "                \n",
    "                KL_elem.to_csv(file + \"_KL.csv\")"
   ]
  },
  {
   "cell_type": "code",
   "execution_count": 82,
   "metadata": {},
   "outputs": [
    {
     "name": "stdout",
     "output_type": "stream",
     "text": [
      "Wrist_KNN15_MET.csv 0.07607133812776777\n",
      "Wrist_KNN15_MET.csv 0.08096809016779943\n"
     ]
    },
    {
     "name": "stderr",
     "output_type": "stream",
     "text": [
      "/Users/samhsu/anaconda3/lib/python3.6/site-packages/ipykernel_launcher.py:31: FutureWarning: set_value is deprecated and will be removed in a future release. Please use .at[] or .iat[] accessors instead\n",
      "/Users/samhsu/anaconda3/lib/python3.6/site-packages/ipykernel_launcher.py:32: FutureWarning: set_value is deprecated and will be removed in a future release. Please use .at[] or .iat[] accessors instead\n"
     ]
    },
    {
     "name": "stdout",
     "output_type": "stream",
     "text": [
      "Thigh_RF15_MET.csv 0.001390990012337342\n",
      "Thigh_RF15_MET.csv 0.001421150995908946\n",
      "Chest_SVM1000_MET.csv 0.7982184129134837\n",
      "Chest_SVM1000_MET.csv 0.500353561768447\n",
      "Both_KNN100_MET.csv 0.00018180472061446289\n",
      "Both_KNN100_MET.csv 0.0001825900252118923\n",
      "Chest_RF15_MET.csv 0.001629540038919122\n",
      "Chest_RF15_MET.csv 0.0016692962454023155\n",
      "Thigh_KNN100_MET.csv 8.408215893670589e-05\n",
      "Thigh_KNN100_MET.csv 8.536218022479588e-05\n",
      "Wrist_RF15_MET.csv 0.019086874411175826\n",
      "Wrist_RF15_MET.csv 0.021421231805713325\n",
      "Both_RF15_MET.csv 0.0010027903494142284\n",
      "Both_RF15_MET.csv 0.0010171352588935157\n",
      "Chest_KNN100_MET.csv 0.00016246973938418988\n",
      "Chest_KNN100_MET.csv 0.00016380472475583654\n"
     ]
    }
   ],
   "source": [
    "KL_div(\"MET_AGG\")"
   ]
  },
  {
   "cell_type": "code",
   "execution_count": 87,
   "metadata": {},
   "outputs": [
    {
     "name": "stdout",
     "output_type": "stream",
     "text": [
      "light        0.324447\n",
      "moderate     0.134474\n",
      "sedentary    0.497053\n",
      "vigorous     0.044027\n",
      "Name: MET_coding, dtype: float64\n",
      "light        0.342386\n",
      "moderate     0.124452\n",
      "sedentary    0.495720\n",
      "vigorous     0.037441\n",
      "Name: MET_predicted, dtype: float64\n"
     ]
    }
   ],
   "source": [
    "temp = pd.read_csv('MET_AGG' + '/' + 'Thigh_RF15_MET.csv')\n",
    "p = temp.MET_coding.value_counts()/temp.shape[0]\n",
    "p = p.sort_index()\n",
    "q = temp.MET_predicted.value_counts()/temp.shape[0]\n",
    "\n",
    "pkeys = p.keys()\n",
    "qkeys = q.keys()\n",
    "for i in range(len(pkeys)):\n",
    "    if pkeys[i] not in qkeys:\n",
    "        q = q.set_value(pkeys[i], 0)\n",
    "\n",
    "q = q.sort_index()\n",
    "print(p)\n",
    "print(q)"
   ]
  },
  {
   "cell_type": "code",
   "execution_count": 6,
   "metadata": {},
   "outputs": [],
   "source": [
    "def KL_div_retrained(my_dir):\n",
    "    models = os.listdir(my_dir)\n",
    "    models.remove('.DS_Store')\n",
    "    for model in models:\n",
    "        files = os.listdir(my_dir + '/' + model + '/')\n",
    "        for file in files:\n",
    "            if ('csv' in file):\n",
    "                temp = pd.read_csv(my_dir + '/' + model + '/' + file)\n",
    "                p = temp.MET_coding.value_counts()/temp.shape[0]\n",
    "                p = p.sort_index()\n",
    "                q = temp.predicted.value_counts()/temp.shape[0]\n",
    "\n",
    "                pkeys = p.keys()\n",
    "                qkeys = q.keys()\n",
    "                for i in range(len(pkeys)):\n",
    "                    if pkeys[i] not in qkeys:\n",
    "                        q = q.set_value(pkeys[i], 0)\n",
    "\n",
    "                q = q.sort_index()\n",
    "\n",
    "                KL_elem1 = scipy.special.kl_div(p, q)\n",
    "                KL_elem2 = scipy.special.kl_div(q, p)\n",
    "                KL_elem = KL_elem1.append(KL_elem2)\n",
    "                KL_elem.to_csv(model + \"_KL.csv\")\n",
    "\n",
    "                KL_div1 = (q * np.log(q/p)).sum()\n",
    "                print(model + \" \" + str(KL_div1))\n",
    "                KL_div2 = (p * np.log(p/q)).sum()\n",
    "                print(model + \" \" + str(KL_div2))"
   ]
  },
  {
   "cell_type": "code",
   "execution_count": 7,
   "metadata": {
    "scrolled": true
   },
   "outputs": [
    {
     "name": "stdout",
     "output_type": "stream",
     "text": [
      "Thigh_KNN100 0.00010545217389578863\n",
      "Thigh_KNN100 0.00010721010863839683\n",
      "Chest_RF15 0.001945159283465411\n",
      "Chest_RF15 0.002029848345407391\n",
      "Both_KNN100 0.00020031099051578136\n",
      "Both_KNN100 0.0002017416174127538\n",
      "Wrist_KNN15 0.0028969414723023\n",
      "Wrist_KNN15 0.0030840717919931922\n"
     ]
    },
    {
     "ename": "AttributeError",
     "evalue": "'DataFrame' object has no attribute 'MET_coding'",
     "output_type": "error",
     "traceback": [
      "\u001b[0;31m---------------------------------------------------------------------------\u001b[0m",
      "\u001b[0;31mAttributeError\u001b[0m                            Traceback (most recent call last)",
      "\u001b[0;32m<ipython-input-7-71b9409a4fc1>\u001b[0m in \u001b[0;36m<module>\u001b[0;34m()\u001b[0m\n\u001b[0;32m----> 1\u001b[0;31m \u001b[0mKL_div_retrained\u001b[0m\u001b[0;34m(\u001b[0m\u001b[0;34m\"MET_FINAL\"\u001b[0m\u001b[0;34m)\u001b[0m\u001b[0;34m\u001b[0m\u001b[0m\n\u001b[0m",
      "\u001b[0;32m<ipython-input-6-683ec38ba91a>\u001b[0m in \u001b[0;36mKL_div_retrained\u001b[0;34m(my_dir)\u001b[0m\n\u001b[1;32m      7\u001b[0m             \u001b[0;32mif\u001b[0m \u001b[0;34m(\u001b[0m\u001b[0;34m'csv'\u001b[0m \u001b[0;32min\u001b[0m \u001b[0mfile\u001b[0m\u001b[0;34m)\u001b[0m\u001b[0;34m:\u001b[0m\u001b[0;34m\u001b[0m\u001b[0m\n\u001b[1;32m      8\u001b[0m                 \u001b[0mtemp\u001b[0m \u001b[0;34m=\u001b[0m \u001b[0mpd\u001b[0m\u001b[0;34m.\u001b[0m\u001b[0mread_csv\u001b[0m\u001b[0;34m(\u001b[0m\u001b[0mmy_dir\u001b[0m \u001b[0;34m+\u001b[0m \u001b[0;34m'/'\u001b[0m \u001b[0;34m+\u001b[0m \u001b[0mmodel\u001b[0m \u001b[0;34m+\u001b[0m \u001b[0;34m'/'\u001b[0m \u001b[0;34m+\u001b[0m \u001b[0mfile\u001b[0m\u001b[0;34m)\u001b[0m\u001b[0;34m\u001b[0m\u001b[0m\n\u001b[0;32m----> 9\u001b[0;31m                 \u001b[0mp\u001b[0m \u001b[0;34m=\u001b[0m \u001b[0mtemp\u001b[0m\u001b[0;34m.\u001b[0m\u001b[0mMET_coding\u001b[0m\u001b[0;34m.\u001b[0m\u001b[0mvalue_counts\u001b[0m\u001b[0;34m(\u001b[0m\u001b[0;34m)\u001b[0m\u001b[0;34m/\u001b[0m\u001b[0mtemp\u001b[0m\u001b[0;34m.\u001b[0m\u001b[0mshape\u001b[0m\u001b[0;34m[\u001b[0m\u001b[0;36m0\u001b[0m\u001b[0;34m]\u001b[0m\u001b[0;34m\u001b[0m\u001b[0m\n\u001b[0m\u001b[1;32m     10\u001b[0m                 \u001b[0mp\u001b[0m \u001b[0;34m=\u001b[0m \u001b[0mp\u001b[0m\u001b[0;34m.\u001b[0m\u001b[0msort_index\u001b[0m\u001b[0;34m(\u001b[0m\u001b[0;34m)\u001b[0m\u001b[0;34m\u001b[0m\u001b[0m\n\u001b[1;32m     11\u001b[0m                 \u001b[0mq\u001b[0m \u001b[0;34m=\u001b[0m \u001b[0mtemp\u001b[0m\u001b[0;34m.\u001b[0m\u001b[0mpredicted\u001b[0m\u001b[0;34m.\u001b[0m\u001b[0mvalue_counts\u001b[0m\u001b[0;34m(\u001b[0m\u001b[0;34m)\u001b[0m\u001b[0;34m/\u001b[0m\u001b[0mtemp\u001b[0m\u001b[0;34m.\u001b[0m\u001b[0mshape\u001b[0m\u001b[0;34m[\u001b[0m\u001b[0;36m0\u001b[0m\u001b[0;34m]\u001b[0m\u001b[0;34m\u001b[0m\u001b[0m\n",
      "\u001b[0;32m~/anaconda3/lib/python3.6/site-packages/pandas/core/generic.py\u001b[0m in \u001b[0;36m__getattr__\u001b[0;34m(self, name)\u001b[0m\n\u001b[1;32m   3612\u001b[0m             \u001b[0;32mif\u001b[0m \u001b[0mname\u001b[0m \u001b[0;32min\u001b[0m \u001b[0mself\u001b[0m\u001b[0;34m.\u001b[0m\u001b[0m_info_axis\u001b[0m\u001b[0;34m:\u001b[0m\u001b[0;34m\u001b[0m\u001b[0m\n\u001b[1;32m   3613\u001b[0m                 \u001b[0;32mreturn\u001b[0m \u001b[0mself\u001b[0m\u001b[0;34m[\u001b[0m\u001b[0mname\u001b[0m\u001b[0;34m]\u001b[0m\u001b[0;34m\u001b[0m\u001b[0m\n\u001b[0;32m-> 3614\u001b[0;31m             \u001b[0;32mreturn\u001b[0m \u001b[0mobject\u001b[0m\u001b[0;34m.\u001b[0m\u001b[0m__getattribute__\u001b[0m\u001b[0;34m(\u001b[0m\u001b[0mself\u001b[0m\u001b[0;34m,\u001b[0m \u001b[0mname\u001b[0m\u001b[0;34m)\u001b[0m\u001b[0;34m\u001b[0m\u001b[0m\n\u001b[0m\u001b[1;32m   3615\u001b[0m \u001b[0;34m\u001b[0m\u001b[0m\n\u001b[1;32m   3616\u001b[0m     \u001b[0;32mdef\u001b[0m \u001b[0m__setattr__\u001b[0m\u001b[0;34m(\u001b[0m\u001b[0mself\u001b[0m\u001b[0;34m,\u001b[0m \u001b[0mname\u001b[0m\u001b[0;34m,\u001b[0m \u001b[0mvalue\u001b[0m\u001b[0;34m)\u001b[0m\u001b[0;34m:\u001b[0m\u001b[0;34m\u001b[0m\u001b[0m\n",
      "\u001b[0;31mAttributeError\u001b[0m: 'DataFrame' object has no attribute 'MET_coding'"
     ]
    }
   ],
   "source": [
    "KL_div_retrained(\"MET_FINAL\")"
   ]
  },
  {
   "cell_type": "code",
   "execution_count": 8,
   "metadata": {},
   "outputs": [
    {
     "data": {
      "text/plain": [
       "['.DS_Store',\n",
       " 'Thigh_KNN100',\n",
       " 'Chest_RF15',\n",
       " 'Both_KNN100',\n",
       " 'Wrist_KNN15',\n",
       " 'Both_RF15',\n",
       " 'Wrist_KNN15_2',\n",
       " 'Chest_KNN100',\n",
       " 'Chest_KNN15',\n",
       " 'Thigh_KNN15',\n",
       " 'Wrist_RF15',\n",
       " 'Thigh_RF15']"
      ]
     },
     "execution_count": 8,
     "metadata": {},
     "output_type": "execute_result"
    }
   ],
   "source": [
    "models = os.listdir(\"MET_FINAL\")\n",
    "models"
   ]
  },
  {
   "cell_type": "code",
   "execution_count": 19,
   "metadata": {},
   "outputs": [
    {
     "name": "stdout",
     "output_type": "stream",
     "text": [
      "['Unnamed: 0', 'sedentary', 'light', 'moderate', 'vigorous']\n",
      "['thigh.mean.vm', 'thigh.sd.vm', 'thigh.mean.ang', 'thigh.sd.ang', 'thigh.p625', 'thigh.dfreq', 'thigh.ratio.df', 'thigh.min.x', 'thigh.min.y', 'thigh.min.z', 'thigh.max.x', 'thigh.max.y', 'thigh.max.z', 'thigh.mean.x', 'thigh.mean.y', 'thigh.mean.z', 'thigh.sd.x', 'thigh.sd.y', 'thigh.sd.z', 'thigh.mean.xy', 'thigh.mean.yz', 'thigh.mean.xz', 'thigh.mean.xyz', 'chest.mean.vm', 'chest.sd.vm', 'chest.mean.ang', 'chest.sd.ang', 'chest.p625', 'chest.dfreq', 'chest.ratio.df', 'chest.min.x', 'chest.min.y', 'chest.min.z', 'chest.max.x', 'chest.max.y', 'chest.max.z', 'chest.mean.x', 'chest.mean.y', 'chest.mean.z', 'chest.sd.x', 'chest.sd.y', 'chest.sd.z', 'chest.mean.xy', 'chest.mean.yz', 'chest.mean.xz', 'chest.mean.xyz', 'type', 'MET_coding', 'last.1.thigh.mean.vm', 'last.1.thigh.sd.vm', 'last.1.thigh.mean.ang', 'last.1.thigh.sd.ang', 'last.1.thigh.p625', 'last.1.thigh.dfreq', 'last.1.thigh.ratio.df', 'last.1.thigh.min.x', 'last.1.thigh.min.y', 'last.1.thigh.min.z', 'last.1.thigh.max.x', 'last.1.thigh.max.y', 'last.1.thigh.max.z', 'last.1.thigh.mean.x', 'last.1.thigh.mean.y', 'last.1.thigh.mean.z', 'last.1.thigh.sd.x', 'last.1.thigh.sd.y', 'last.1.thigh.sd.z', 'last.1.thigh.mean.xy', 'last.1.thigh.mean.yz', 'last.1.thigh.mean.xz', 'last.1.thigh.mean.xyz', 'predicted']\n"
     ]
    }
   ],
   "source": [
    "model = 'Thigh_RF15'\n",
    "files = os.listdir(\"MET_FINAL\" + '/' + model + '/')\n",
    "for file in files:\n",
    "    if ('csv' in file):\n",
    "        temp = pd.read_csv(\"MET_FINAL\" + '/' + model + '/' + file)\n",
    "        print(list(temp))"
   ]
  },
  {
   "cell_type": "code",
   "execution_count": 20,
   "metadata": {},
   "outputs": [
    {
     "name": "stdout",
     "output_type": "stream",
     "text": [
      "Thigh_RF15 0.0009540714924660262\n",
      "Thigh_RF15 0.0009699044880469489\n"
     ]
    }
   ],
   "source": [
    "p = temp.MET_coding.value_counts()/temp.shape[0]\n",
    "p = p.sort_index()\n",
    "q = temp.predicted.value_counts()/temp.shape[0]\n",
    "\n",
    "pkeys = p.keys()\n",
    "qkeys = q.keys()\n",
    "for i in range(len(pkeys)):\n",
    "    if pkeys[i] not in qkeys:\n",
    "        q = q.set_value(pkeys[i], 0)\n",
    "\n",
    "q = q.sort_index()\n",
    "\n",
    "KL_elem1 = scipy.special.kl_div(p, q)\n",
    "KL_elem2 = scipy.special.kl_div(q, p)\n",
    "KL_elem = KL_elem1.append(KL_elem2)\n",
    "KL_elem.to_csv(model + \"_KL.csv\")\n",
    "\n",
    "KL_div1 = (q * np.log(q/p)).sum()\n",
    "print(model + \" \" + str(KL_div1))\n",
    "KL_div2 = (p * np.log(p/q)).sum()\n",
    "print(model + \" \" + str(KL_div2))"
   ]
  },
  {
   "cell_type": "code",
   "execution_count": null,
   "metadata": {},
   "outputs": [],
   "source": []
  }
 ],
 "metadata": {
  "kernelspec": {
   "display_name": "Python 3",
   "language": "python",
   "name": "python3"
  },
  "language_info": {
   "codemirror_mode": {
    "name": "ipython",
    "version": 3
   },
   "file_extension": ".py",
   "mimetype": "text/x-python",
   "name": "python",
   "nbconvert_exporter": "python",
   "pygments_lexer": "ipython3",
   "version": "3.6.4"
  }
 },
 "nbformat": 4,
 "nbformat_minor": 2
}
