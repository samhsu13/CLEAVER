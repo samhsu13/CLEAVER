{
 "cells": [
  {
   "cell_type": "code",
   "execution_count": 1,
   "metadata": {},
   "outputs": [],
   "source": [
    "import pandas as pd\n",
    "import numpy as np\n",
    "import os"
   ]
  },
  {
   "cell_type": "code",
   "execution_count": 3,
   "metadata": {},
   "outputs": [],
   "source": [
    "file = pd.read_csv(\"actigraph_wrist23_svm100_full_clean_wrist_complete.csv\")"
   ]
  },
  {
   "cell_type": "code",
   "execution_count": 6,
   "metadata": {},
   "outputs": [
    {
     "data": {
      "text/plain": [
       "['bio_chest_Ellis_svm100.sav',\n",
       " 'bio_thigh_Ellis_svm100.sav',\n",
       " 'biostamp_thigh_svm100_full_clean_complete.csv',\n",
       " 'biostamp_thigh_chest_svm100_full_clean_complete.csv',\n",
       " 'biostamp_chest_svm100_full_clean_complete.csv',\n",
       " 'bio_both_Ellis_svm100.sav']"
      ]
     },
     "execution_count": 6,
     "metadata": {},
     "output_type": "execute_result"
    }
   ],
   "source": [
    "models = os.listdir(met_dir)\n",
    "\n",
    "models"
   ]
  },
  {
   "cell_type": "code",
   "execution_count": 4,
   "metadata": {},
   "outputs": [],
   "source": [
    "def label_METs (ground_truth):\n",
    "    if ((ground_truth['posture_coding'] == 'SB-sitting') | \n",
    "        (ground_truth['posture_coding'] == 'SB- lying')):\n",
    "        return \"sedentary\"\n",
    "    \n",
    "    if ((ground_truth['posture_coding'] == 'LA- stand') |\n",
    "        (ground_truth['posture_coding'] == 'LA- stand and move light') |\n",
    "        (ground_truth['posture_coding'] == 'LA- stand and move moderate') |\n",
    "        (ground_truth['posture_coding'] == 'LA- stand and move vigorous')):\n",
    "        return \"light\"\n",
    "    \n",
    "    if ((ground_truth['posture_coding'] == 'WA- walk light') |\n",
    "        (ground_truth['posture_coding'] == 'WA- walk moderate') |\n",
    "        (ground_truth['posture_coding'] == 'WA- walk vigorous') |\n",
    "        (ground_truth['posture_coding'] == 'WA- ascend stairs') |\n",
    "        (ground_truth['posture_coding'] == 'WA- descend stairs')):\n",
    "        return \"moderate\"\n",
    "    \n",
    "    if ((ground_truth['posture_coding'] == 'WA- running') |\n",
    "               (ground_truth['posture_coding'] == 'SP- bike') |\n",
    "               (ground_truth['posture_coding'] == 'SP- other sport movement')):\n",
    "        return \"vigorous\"\n",
    "    \n",
    "    return \"error\""
   ]
  },
  {
   "cell_type": "code",
   "execution_count": 5,
   "metadata": {},
   "outputs": [],
   "source": [
    "file['MET_coding'] = file.apply (lambda row: label_METs (row),axis=1)"
   ]
  },
  {
   "cell_type": "code",
   "execution_count": 6,
   "metadata": {},
   "outputs": [],
   "source": [
    "def label_METs2 (ground_truth):\n",
    "    if ((ground_truth['predicted'] == 'SB-sitting') | \n",
    "        (ground_truth['predicted'] == 'SB- lying')):\n",
    "        return \"sedentary\"\n",
    "    \n",
    "    if ((ground_truth['predicted'] == 'LA- stand') |\n",
    "        (ground_truth['predicted'] == 'LA- stand and move light') |\n",
    "        (ground_truth['predicted'] == 'LA- stand and move moderate') |\n",
    "        (ground_truth['predicted'] == 'LA- stand and move vigorous')):\n",
    "        return \"light\"\n",
    "    \n",
    "    if ((ground_truth['predicted'] == 'WA- walk light') |\n",
    "        (ground_truth['predicted'] == 'WA- walk moderate') |\n",
    "        (ground_truth['predicted'] == 'WA- walk vigorous') |\n",
    "        (ground_truth['predicted'] == 'WA- ascend stairs') |\n",
    "        (ground_truth['predicted'] == 'WA- descend stairs')):\n",
    "        return \"moderate\"\n",
    "    \n",
    "    if ((ground_truth['predicted'] == 'WA- running') |\n",
    "               (ground_truth['predicted'] == 'SP- bike') |\n",
    "               (ground_truth['predicted'] == 'SP- other sport movement')):\n",
    "        return \"vigorous\"\n",
    "    \n",
    "    return \"error\""
   ]
  },
  {
   "cell_type": "code",
   "execution_count": 7,
   "metadata": {},
   "outputs": [],
   "source": [
    "file['MET_predicted'] = file.apply (lambda row: label_METs2 (row),axis=1)"
   ]
  },
  {
   "cell_type": "code",
   "execution_count": 8,
   "metadata": {},
   "outputs": [
    {
     "data": {
      "text/plain": [
       "0.3933408149070356"
      ]
     },
     "execution_count": 8,
     "metadata": {},
     "output_type": "execute_result"
    }
   ],
   "source": [
    "correct = file['MET_coding'] == file['MET_predicted']\n",
    "sum(correct) / len(correct)"
   ]
  },
  {
   "cell_type": "code",
   "execution_count": 10,
   "metadata": {},
   "outputs": [
    {
     "name": "stdout",
     "output_type": "stream",
     "text": [
      "biostamp_thigh_svm100_full_clean_complete.csv 0.9091024677801537\n",
      "biostamp_thigh_chest_svm100_full_clean_complete.csv 0.8980147951222331\n",
      "biostamp_chest_svm100_full_clean_complete.csv 0.8496098942379934\n"
     ]
    }
   ],
   "source": [
    "for file in models:\n",
    "    #files = os.listdir(met_dir + '/' + model + '/')\n",
    "    #for file in files:\n",
    "    if ('csv' in file):\n",
    "        output = pd.read_csv(met_dir + '/' + file)\n",
    "        output['MET_coding'] = output.apply (lambda row: label_METs (row),axis=1)\n",
    "        output['MET_predicted'] = output.apply (lambda row: label_METs2 (row),axis=1)\n",
    "        correct = output['MET_coding'] == output['MET_predicted']\n",
    "        print(file + \" \" + str(sum(correct) / len(correct)))\n",
    "        temp = output[['MET_coding', 'MET_predicted']]\n",
    "        temp.to_csv(file + '_MET.csv')"
   ]
  },
  {
   "cell_type": "code",
   "execution_count": null,
   "metadata": {},
   "outputs": [],
   "source": []
  }
 ],
 "metadata": {
  "kernelspec": {
   "display_name": "Python 3",
   "language": "python",
   "name": "python3"
  },
  "language_info": {
   "codemirror_mode": {
    "name": "ipython",
    "version": 3
   },
   "file_extension": ".py",
   "mimetype": "text/x-python",
   "name": "python",
   "nbconvert_exporter": "python",
   "pygments_lexer": "ipython3",
   "version": "3.6.4"
  }
 },
 "nbformat": 4,
 "nbformat_minor": 2
}
