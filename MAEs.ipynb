{
 "cells": [
  {
   "cell_type": "code",
   "execution_count": 1,
   "metadata": {},
   "outputs": [],
   "source": [
    "import pandas as pd\n",
    "import numpy as np\n",
    "import os, sys\n",
    "from sklearn.metrics import mean_absolute_error"
   ]
  },
  {
   "cell_type": "code",
   "execution_count": 2,
   "metadata": {},
   "outputs": [],
   "source": [
    "def label_posture (row):\n",
    "    if row['posture_coding'] == 'SB- lying' :\n",
    "        return 0\n",
    "    if row['posture_coding'] == 'SB-sitting':\n",
    "        return 1\n",
    "    if row['posture_coding'] == 'LA- stand' :\n",
    "        return 2\n",
    "    if row['posture_coding'] == 'LA- stand and move light':\n",
    "        return 3\n",
    "    if row['posture_coding']  == 'LA- stand and move moderate':\n",
    "        return 4\n",
    "    if row['posture_coding'] == 'LA- stand and move vigorous':\n",
    "        return 5\n",
    "    if row['posture_coding'] == 'WA- walk light':\n",
    "        return 6\n",
    "    if row['posture_coding'] == 'WA- walk moderate':\n",
    "        return 7\n",
    "    if row['posture_coding'] == 'WA- walk vigorous':\n",
    "        return 8\n",
    "    if row['posture_coding'] == 'WA- ascend stairs':\n",
    "        return 9\n",
    "    if row['posture_coding'] == 'WA- descend stairs':\n",
    "        return 10\n",
    "    if row['posture_coding'] == 'WA- running':\n",
    "        return 11\n",
    "    if row['posture_coding'] == 'SP- other sport movement':\n",
    "        return 12\n",
    "    if row['posture_coding'] == 'SP- bike':\n",
    "        return 13\n",
    "    return -1"
   ]
  },
  {
   "cell_type": "code",
   "execution_count": 3,
   "metadata": {},
   "outputs": [],
   "source": [
    "def label_predicted (row):\n",
    "    if row['predicted'] == 'SB- lying' :\n",
    "        return 0\n",
    "    if row['predicted'] == 'SB-sitting':\n",
    "        return 1\n",
    "    if row['predicted'] == 'LA- stand' :\n",
    "        return 2\n",
    "    if row['predicted'] == 'LA- stand and move light':\n",
    "        return 3\n",
    "    if row['predicted']  == 'LA- stand and move moderate':\n",
    "        return 4\n",
    "    if row['predicted'] == 'LA- stand and move vigorous':\n",
    "        return 5\n",
    "    if row['predicted'] == 'WA- walk light':\n",
    "        return 6\n",
    "    if row['predicted'] == 'WA- walk moderate':\n",
    "        return 7\n",
    "    if row['predicted'] == 'WA- walk vigorous':\n",
    "        return 8\n",
    "    if row['predicted'] == 'WA- ascend stairs':\n",
    "        return 9\n",
    "    if row['predicted'] == 'WA- descend stairs':\n",
    "        return 10\n",
    "    if row['predicted'] == 'WA- running':\n",
    "        return 11\n",
    "    if row['predicted'] == 'SP- other sport movement':\n",
    "        return 12\n",
    "    if row['predicted'] == 'SP- bike':\n",
    "        return 13\n",
    "    return -1"
   ]
  },
  {
   "cell_type": "code",
   "execution_count": 4,
   "metadata": {},
   "outputs": [],
   "source": [
    "def ma_mae(results):\n",
    "    y_labels = sorted(list(set(results['posture_coding_ordinal'])))\n",
    "    maes = np.zeros([len(y_labels)])\n",
    "    mae_sum = 0.0\n",
    "    \n",
    "    for label in y_labels:\n",
    "        y = results[results['posture_coding_ordinal'] == label]\n",
    "        #pred = results[results['predicted_ordinal'] == label]\n",
    "        mae = mean_absolute_error(y['posture_coding_ordinal'], y['predicted_ordinal'])\n",
    "        max_error = max(len(y_labels) - label, label)\n",
    "        mae_sum += mae / max_error\n",
    "\n",
    "    return 1 - mae_sum / len(y_labels)"
   ]
  },
  {
   "cell_type": "code",
   "execution_count": 5,
   "metadata": {},
   "outputs": [],
   "source": [
    "def calcMAE(results):\n",
    "    private = results[results['posture_coding'] != 'private/not coded']\n",
    "    mae = -1\n",
    "    mamae = -1\n",
    "    \n",
    "    if len(private < 0):\n",
    "        results['posture_coding_ordinal'] = results.apply (lambda row: label_posture (row),axis=1)\n",
    "        results['predicted_ordinal'] = results.apply (lambda row: label_predicted (row),axis=1)\n",
    "        results = results[['type', 'posture_coding', 'predicted', 'posture_coding_ordinal', 'predicted_ordinal']]\n",
    "        mae = mean_absolute_error(results['posture_coding_ordinal'], results['predicted_ordinal'])\n",
    "        mamae = ma_mae(results['posture_coding_ordinal'], results['predicted_ordinal'])\n",
    "        \n",
    "    return mae, mamae"
   ]
  },
  {
   "cell_type": "code",
   "execution_count": 34,
   "metadata": {},
   "outputs": [],
   "source": [
    "mydir = \"/Users/samhsu/Documents/THESIS/Code/KineseItUp/Capstone/\"\n",
    "file = \"biostamp_chest_rf_tier_biostamp_complete.csv\"\n",
    "\n",
    "results = pd.read_csv(mydir + file)"
   ]
  },
  {
   "cell_type": "code",
   "execution_count": 35,
   "metadata": {},
   "outputs": [
    {
     "data": {
      "text/html": [
       "<div>\n",
       "<style scoped>\n",
       "    .dataframe tbody tr th:only-of-type {\n",
       "        vertical-align: middle;\n",
       "    }\n",
       "\n",
       "    .dataframe tbody tr th {\n",
       "        vertical-align: top;\n",
       "    }\n",
       "\n",
       "    .dataframe thead th {\n",
       "        text-align: right;\n",
       "    }\n",
       "</style>\n",
       "<table border=\"1\" class=\"dataframe\">\n",
       "  <thead>\n",
       "    <tr style=\"text-align: right;\">\n",
       "      <th></th>\n",
       "      <th>thigh.mean.vm</th>\n",
       "      <th>thigh.sd.vm</th>\n",
       "      <th>thigh.mean.ang</th>\n",
       "      <th>thigh.sd.ang</th>\n",
       "      <th>thigh.p625</th>\n",
       "      <th>thigh.dfreq</th>\n",
       "      <th>thigh.ratio.df</th>\n",
       "      <th>thigh.min.x</th>\n",
       "      <th>thigh.min.y</th>\n",
       "      <th>thigh.min.z</th>\n",
       "      <th>...</th>\n",
       "      <th>last.1.chest.mean.y</th>\n",
       "      <th>last.1.chest.mean.z</th>\n",
       "      <th>last.1.chest.sd.x</th>\n",
       "      <th>last.1.chest.sd.y</th>\n",
       "      <th>last.1.chest.sd.z</th>\n",
       "      <th>last.1.chest.mean.xy</th>\n",
       "      <th>last.1.chest.mean.yz</th>\n",
       "      <th>last.1.chest.mean.xz</th>\n",
       "      <th>last.1.chest.mean.xyz</th>\n",
       "      <th>predicted</th>\n",
       "    </tr>\n",
       "  </thead>\n",
       "  <tbody>\n",
       "  </tbody>\n",
       "</table>\n",
       "<p>0 rows × 74 columns</p>\n",
       "</div>"
      ],
      "text/plain": [
       "Empty DataFrame\n",
       "Columns: [thigh.mean.vm, thigh.sd.vm, thigh.mean.ang, thigh.sd.ang, thigh.p625, thigh.dfreq, thigh.ratio.df, thigh.min.x, thigh.min.y, thigh.min.z, thigh.max.x, thigh.max.y, thigh.max.z, thigh.mean.x, thigh.mean.y, thigh.mean.z, thigh.sd.x, thigh.sd.y, thigh.sd.z, thigh.mean.xy, thigh.mean.yz, thigh.mean.xz, thigh.mean.xyz, chest.mean.vm, chest.sd.vm, chest.mean.ang, chest.sd.ang, chest.p625, chest.dfreq, chest.ratio.df, chest.min.x, chest.min.y, chest.min.z, chest.max.x, chest.max.y, chest.max.z, chest.mean.x, chest.mean.y, chest.mean.z, chest.sd.x, chest.sd.y, chest.sd.z, chest.mean.xy, chest.mean.yz, chest.mean.xz, chest.mean.xyz, posture_coding, type, posture1, posture2, last.1.chest.mean.vm, last.1.chest.sd.vm, last.1.chest.mean.ang, last.1.chest.sd.ang, last.1.chest.p625, last.1.chest.dfreq, last.1.chest.ratio.df, last.1.chest.min.x, last.1.chest.min.y, last.1.chest.min.z, last.1.chest.max.x, last.1.chest.max.y, last.1.chest.max.z, last.1.chest.mean.x, last.1.chest.mean.y, last.1.chest.mean.z, last.1.chest.sd.x, last.1.chest.sd.y, last.1.chest.sd.z, last.1.chest.mean.xy, last.1.chest.mean.yz, last.1.chest.mean.xz, last.1.chest.mean.xyz, predicted]\n",
       "Index: []\n",
       "\n",
       "[0 rows x 74 columns]"
      ]
     },
     "execution_count": 35,
     "metadata": {},
     "output_type": "execute_result"
    }
   ],
   "source": [
    "private = results[results['posture_coding'] == 'private/not coded']\n",
    "private"
   ]
  },
  {
   "cell_type": "code",
   "execution_count": 36,
   "metadata": {
    "scrolled": true
   },
   "outputs": [],
   "source": [
    "private = results[results['posture_coding'] != 'private/not coded']\n",
    "mae = -1\n",
    "mamae = -1\n",
    "\n",
    "if len(private < 0):\n",
    "    results['posture_coding_ordinal'] = results.apply (lambda row: label_posture (row),axis=1)\n",
    "    results['predicted_ordinal'] = results.apply (lambda row: label_predicted (row),axis=1)\n",
    "    results = results[['type', 'posture_coding', 'predicted', 'posture_coding_ordinal', 'predicted_ordinal']]\n",
    "    mae = mean_absolute_error(results['posture_coding_ordinal'], results['predicted_ordinal'])\n",
    "    mamae = ma_mae(results)"
   ]
  },
  {
   "cell_type": "code",
   "execution_count": 37,
   "metadata": {},
   "outputs": [
    {
     "data": {
      "text/plain": [
       "(0.3695226261341964, 0.7933746687290242)"
      ]
     },
     "execution_count": 37,
     "metadata": {},
     "output_type": "execute_result"
    }
   ],
   "source": [
    "mae, mamae"
   ]
  },
  {
   "cell_type": "code",
   "execution_count": 35,
   "metadata": {
    "scrolled": true
   },
   "outputs": [
    {
     "data": {
      "text/plain": [
       "['thigh.mean.vm',\n",
       " 'thigh.sd.vm',\n",
       " 'thigh.mean.ang',\n",
       " 'thigh.sd.ang',\n",
       " 'thigh.p625',\n",
       " 'thigh.dfreq',\n",
       " 'thigh.ratio.df',\n",
       " 'thigh.min.x',\n",
       " 'thigh.min.y',\n",
       " 'thigh.min.z',\n",
       " 'thigh.max.x',\n",
       " 'thigh.max.y',\n",
       " 'thigh.max.z',\n",
       " 'thigh.mean.x',\n",
       " 'thigh.mean.y',\n",
       " 'thigh.mean.z',\n",
       " 'thigh.sd.x',\n",
       " 'thigh.sd.y',\n",
       " 'thigh.sd.z',\n",
       " 'thigh.mean.xy',\n",
       " 'thigh.mean.yz',\n",
       " 'thigh.mean.xz',\n",
       " 'thigh.mean.xyz',\n",
       " 'chest.mean.vm',\n",
       " 'chest.sd.vm',\n",
       " 'chest.mean.ang',\n",
       " 'chest.sd.ang',\n",
       " 'chest.p625',\n",
       " 'chest.dfreq',\n",
       " 'chest.ratio.df',\n",
       " 'chest.min.x',\n",
       " 'chest.min.y',\n",
       " 'chest.min.z',\n",
       " 'chest.max.x',\n",
       " 'chest.max.y',\n",
       " 'chest.max.z',\n",
       " 'chest.mean.x',\n",
       " 'chest.mean.y',\n",
       " 'chest.mean.z',\n",
       " 'chest.sd.x',\n",
       " 'chest.sd.y',\n",
       " 'chest.sd.z',\n",
       " 'chest.mean.xy',\n",
       " 'chest.mean.yz',\n",
       " 'chest.mean.xz',\n",
       " 'chest.mean.xyz',\n",
       " 'posture_coding',\n",
       " 'type',\n",
       " 'last.1.thigh.mean.vm',\n",
       " 'last.1.thigh.sd.vm',\n",
       " 'last.1.thigh.mean.ang',\n",
       " 'last.1.thigh.sd.ang',\n",
       " 'last.1.thigh.p625',\n",
       " 'last.1.thigh.dfreq',\n",
       " 'last.1.thigh.ratio.df',\n",
       " 'last.1.thigh.min.x',\n",
       " 'last.1.thigh.min.y',\n",
       " 'last.1.thigh.min.z',\n",
       " 'last.1.thigh.max.x',\n",
       " 'last.1.thigh.max.y',\n",
       " 'last.1.thigh.max.z',\n",
       " 'last.1.thigh.mean.x',\n",
       " 'last.1.thigh.mean.y',\n",
       " 'last.1.thigh.mean.z',\n",
       " 'last.1.thigh.sd.x',\n",
       " 'last.1.thigh.sd.y',\n",
       " 'last.1.thigh.sd.z',\n",
       " 'last.1.thigh.mean.xy',\n",
       " 'last.1.thigh.mean.yz',\n",
       " 'last.1.thigh.mean.xz',\n",
       " 'last.1.thigh.mean.xyz',\n",
       " 'last.1.chest.mean.vm',\n",
       " 'last.1.chest.sd.vm',\n",
       " 'last.1.chest.mean.ang',\n",
       " 'last.1.chest.sd.ang',\n",
       " 'last.1.chest.p625',\n",
       " 'last.1.chest.dfreq',\n",
       " 'last.1.chest.ratio.df',\n",
       " 'last.1.chest.min.x',\n",
       " 'last.1.chest.min.y',\n",
       " 'last.1.chest.min.z',\n",
       " 'last.1.chest.max.x',\n",
       " 'last.1.chest.max.y',\n",
       " 'last.1.chest.max.z',\n",
       " 'last.1.chest.mean.x',\n",
       " 'last.1.chest.mean.y',\n",
       " 'last.1.chest.mean.z',\n",
       " 'last.1.chest.sd.x',\n",
       " 'last.1.chest.sd.y',\n",
       " 'last.1.chest.sd.z',\n",
       " 'last.1.chest.mean.xy',\n",
       " 'last.1.chest.mean.yz',\n",
       " 'last.1.chest.mean.xz',\n",
       " 'last.1.chest.mean.xyz',\n",
       " 'predicted']"
      ]
     },
     "execution_count": 35,
     "metadata": {},
     "output_type": "execute_result"
    }
   ],
   "source": [
    "mydir = \"/Users/samhsu/Documents/THESIS/Code/KineseItUp/Capstone/Results/\"\n",
    "files = os.listdir(mydir)\n",
    "\n",
    "for file in files:\n",
    "    results = pd.read_csv(mydir + file)\n",
    "    mae, ma_mae = calcMAE(results)\n",
    "    mae_list.append(mae)\n",
    "    ma_mae_list.append(ma_mae)"
   ]
  },
  {
   "cell_type": "code",
   "execution_count": 70,
   "metadata": {},
   "outputs": [],
   "source": [
    "results['posture_coding_ordinal'] = results.apply (lambda row: label_posture (row),axis=1)"
   ]
  },
  {
   "cell_type": "code",
   "execution_count": 71,
   "metadata": {},
   "outputs": [],
   "source": [
    "results['predicted_ordinal'] = results.apply (lambda row: label_predicted (row),axis=1)"
   ]
  },
  {
   "cell_type": "code",
   "execution_count": 48,
   "metadata": {},
   "outputs": [],
   "source": [
    "results = results[['type', 'posture_coding', 'predicted', 'posture_coding_ordinal', 'predicted_ordinal']]\n",
    "#list(results)\n",
    "#results.to_csv(\"ordinal.csv\")"
   ]
  },
  {
   "cell_type": "code",
   "execution_count": 49,
   "metadata": {},
   "outputs": [],
   "source": [
    "from sklearn.metrics import mean_absolute_error"
   ]
  },
  {
   "cell_type": "code",
   "execution_count": 72,
   "metadata": {},
   "outputs": [
    {
     "data": {
      "text/plain": [
       "0.8105906490204011"
      ]
     },
     "execution_count": 72,
     "metadata": {},
     "output_type": "execute_result"
    }
   ],
   "source": [
    "adaboost_mae = mean_absolute_error(results['posture_coding_ordinal'], results['predicted_ordinal'])\n",
    "adaboost_mae"
   ]
  },
  {
   "cell_type": "code",
   "execution_count": 63,
   "metadata": {},
   "outputs": [],
   "source": [
    "rf_results = pd.read_csv(mydir + \"biostamp_thigh_chest_rf_full_new_Biostamp_complete.csv\")\n",
    "rf_results = rf_results[rf_results['posture_coding'] != 'private/not coded']\n",
    "rf_results = rf_results[rf_results['predicted'] != 'private/not coded']\n",
    "rf_results['posture_coding_ordinal'] = rf_results.apply (lambda row: label_posture (row),axis=1)\n",
    "rf_results['predicted_ordinal'] = rf_results.apply (lambda row: label_predicted (row),axis=1)\n",
    "rf_results = rf_results[['type', 'posture_coding', 'predicted', 'posture_coding_ordinal', 'predicted_ordinal']]\n",
    "rf_mae = mean_absolute_error(rf_results['posture_coding_ordinal'], rf_results['predicted_ordinal'])"
   ]
  },
  {
   "cell_type": "code",
   "execution_count": 64,
   "metadata": {},
   "outputs": [
    {
     "data": {
      "text/plain": [
       "0.4103999306478645"
      ]
     },
     "execution_count": 64,
     "metadata": {},
     "output_type": "execute_result"
    }
   ],
   "source": [
    "rf_mae"
   ]
  },
  {
   "cell_type": "code",
   "execution_count": 60,
   "metadata": {},
   "outputs": [],
   "source": [
    "rf_results2 = pd.read_csv(mydir + \"biostamp_thigh_chest_rf_tier_biostamp_complete.csv\")"
   ]
  },
  {
   "cell_type": "code",
   "execution_count": 61,
   "metadata": {},
   "outputs": [],
   "source": [
    "rf_results2 = rf_results2[rf_results2['posture_coding'] != 'private/not coded']\n",
    "rf_results2 = rf_results2[rf_results2['predicted'] != 'private/not coded']\n",
    "rf_results2['posture_coding_ordinal'] = rf_results2.apply (lambda row: label_posture (row),axis=1)\n",
    "rf_results2['predicted_ordinal'] = rf_results2.apply (lambda row: label_predicted (row),axis=1)\n",
    "rf_results2 = rf_results2[['type', 'posture_coding', 'predicted', 'posture_coding_ordinal', 'predicted_ordinal']]\n",
    "mae = mean_absolute_error(rf_results2['posture_coding_ordinal'], rf_results2['predicted_ordinal'])"
   ]
  },
  {
   "cell_type": "code",
   "execution_count": 62,
   "metadata": {},
   "outputs": [
    {
     "data": {
      "text/plain": [
       "0.3748338438421083"
      ]
     },
     "execution_count": 62,
     "metadata": {},
     "output_type": "execute_result"
    }
   ],
   "source": [
    "mae"
   ]
  },
  {
   "cell_type": "code",
   "execution_count": 65,
   "metadata": {},
   "outputs": [],
   "source": [
    "samboost_results = pd.read_csv(mydir + \"biostamp_thigh_chest_samboost_full_clean_new_Biostamp_complete2.csv\")\n",
    "samboost_results = samboost_results[samboost_results['posture_coding'] != 'private/not coded']\n",
    "samboost_results = samboost_results[samboost_results['predicted'] != 'private/not coded']\n",
    "samboost_results['posture_coding_ordinal'] = samboost_results.apply (lambda row: label_posture (row),axis=1)\n",
    "samboost_results['predicted_ordinal'] = samboost_results.apply (lambda row: label_predicted (row),axis=1)\n",
    "samboost_results = rf_results[['type', 'posture_coding', 'predicted', 'posture_coding_ordinal', 'predicted_ordinal']]\n",
    "samboost_mae = mean_absolute_error(samboost_results['posture_coding_ordinal'], samboost_results['predicted_ordinal'])"
   ]
  },
  {
   "cell_type": "code",
   "execution_count": 66,
   "metadata": {},
   "outputs": [
    {
     "data": {
      "text/plain": [
       "0.4103999306478645"
      ]
     },
     "execution_count": 66,
     "metadata": {},
     "output_type": "execute_result"
    }
   ],
   "source": [
    "samboost_mae"
   ]
  },
  {
   "cell_type": "code",
   "execution_count": 73,
   "metadata": {},
   "outputs": [],
   "source": [
    "samboost_results = pd.read_csv(mydir + \"biostamp_thigh_chest_samboost_full_clean_new_Biostamp_complete2.csv\")"
   ]
  },
  {
   "cell_type": "code",
   "execution_count": 76,
   "metadata": {},
   "outputs": [
    {
     "data": {
      "text/plain": [
       "346060"
      ]
     },
     "execution_count": 76,
     "metadata": {},
     "output_type": "execute_result"
    }
   ],
   "source": [
    "len(samboost_results[samboost_results['posture_coding'] != 'private/not coded'])"
   ]
  },
  {
   "cell_type": "code",
   "execution_count": 6,
   "metadata": {},
   "outputs": [],
   "source": [
    "mydir2 = \"/Users/samhsu/Documents/THESIS/Out/\"\n",
    "biostamp = pd.read_csv(mydir2 + \"Biostamp_complete.csv\")"
   ]
  },
  {
   "cell_type": "code",
   "execution_count": 8,
   "metadata": {},
   "outputs": [
    {
     "data": {
      "text/plain": [
       "['Unnamed: 0',\n",
       " 'Unnamed: 0.1',\n",
       " 'Unnamed: 0.1.1',\n",
       " 'thigh.mean.vm',\n",
       " 'thigh.sd.vm',\n",
       " 'thigh.mean.ang',\n",
       " 'thigh.sd.ang',\n",
       " 'thigh.p625',\n",
       " 'thigh.dfreq',\n",
       " 'thigh.ratio.df',\n",
       " 'thigh.min.x',\n",
       " 'thigh.min.y',\n",
       " 'thigh.min.z',\n",
       " 'thigh.max.x',\n",
       " 'thigh.max.y',\n",
       " 'thigh.max.z',\n",
       " 'thigh.mean.x',\n",
       " 'thigh.mean.y',\n",
       " 'thigh.mean.z',\n",
       " 'thigh.sd.x',\n",
       " 'thigh.sd.y',\n",
       " 'thigh.sd.z',\n",
       " 'thigh.mean.xy',\n",
       " 'thigh.mean.yz',\n",
       " 'thigh.mean.xz',\n",
       " 'thigh.mean.xyz',\n",
       " 'start.time',\n",
       " 'chest.mean.vm',\n",
       " 'chest.sd.vm',\n",
       " 'chest.mean.ang',\n",
       " 'chest.sd.ang',\n",
       " 'chest.p625',\n",
       " 'chest.dfreq',\n",
       " 'chest.ratio.df',\n",
       " 'chest.min.x',\n",
       " 'chest.min.y',\n",
       " 'chest.min.z',\n",
       " 'chest.max.x',\n",
       " 'chest.max.y',\n",
       " 'chest.max.z',\n",
       " 'chest.mean.x',\n",
       " 'chest.mean.y',\n",
       " 'chest.mean.z',\n",
       " 'chest.sd.x',\n",
       " 'chest.sd.y',\n",
       " 'chest.sd.z',\n",
       " 'chest.mean.xy',\n",
       " 'chest.mean.yz',\n",
       " 'chest.mean.xz',\n",
       " 'chest.mean.xyz',\n",
       " 'coding',\n",
       " 'primary_behavior',\n",
       " 'primary_posture',\n",
       " 'primary_upperbody',\n",
       " 'primary_intensity',\n",
       " 'secondary_behavior',\n",
       " 'secondary_posture',\n",
       " 'secondary_upperbody',\n",
       " 'secondary_intensity',\n",
       " 'num_postures',\n",
       " 'transition',\n",
       " 'actual_time',\n",
       " 'posture_coding',\n",
       " 'type',\n",
       " 'posture_coding_ordinal']"
      ]
     },
     "execution_count": 8,
     "metadata": {},
     "output_type": "execute_result"
    }
   ],
   "source": [
    "list(biostamp)"
   ]
  },
  {
   "cell_type": "code",
   "execution_count": 87,
   "metadata": {},
   "outputs": [
    {
     "data": {
      "text/plain": [
       "174149"
      ]
     },
     "execution_count": 87,
     "metadata": {},
     "output_type": "execute_result"
    }
   ],
   "source": [
    "len(biostamp[biostamp['posture_coding'] == 'SB-sitting'])"
   ]
  },
  {
   "cell_type": "code",
   "execution_count": 95,
   "metadata": {},
   "outputs": [],
   "source": [
    "classes = list(set(biostamp['posture_coding']))\n",
    "m = {}\n",
    "\n",
    "for i in range(len(classes)):  # for the number of classes\n",
    "    #m[i] = len(y[y['posture_coding'] == self.classes_[i]])  # get the number of data points of this class\n",
    "    c = classes[i]\n",
    "    m[str(c)] = len(biostamp[biostamp['posture_coding'] == classes[i]])"
   ]
  },
  {
   "cell_type": "code",
   "execution_count": 96,
   "metadata": {},
   "outputs": [
    {
     "data": {
      "text/plain": [
       "{'LA- stand': 89337,\n",
       " 'LA- stand and move light': 24635,\n",
       " 'LA- stand and move moderate': 3543,\n",
       " 'LA- stand and move vigorous': 89,\n",
       " 'SB- lying': 27,\n",
       " 'SB-sitting': 174149,\n",
       " 'SP- bike': 6108,\n",
       " 'SP- other sport movement': 3,\n",
       " 'WA- ascend stairs': 1224,\n",
       " 'WA- descend stairs': 1105,\n",
       " 'WA- running': 9249,\n",
       " 'WA- walk light': 10268,\n",
       " 'WA- walk moderate': 33186,\n",
       " 'WA- walk vigorous': 1989}"
      ]
     },
     "execution_count": 96,
     "metadata": {},
     "output_type": "execute_result"
    }
   ],
   "source": [
    "m"
   ]
  },
  {
   "cell_type": "code",
   "execution_count": 9,
   "metadata": {},
   "outputs": [],
   "source": [
    "sum(map(sum, (cost_matrices[t][i, y_pred.astype(int)])))"
   ]
  },
  {
   "cell_type": "code",
   "execution_count": null,
   "metadata": {},
   "outputs": [],
   "source": []
  }
 ],
 "metadata": {
  "kernelspec": {
   "display_name": "Python 3",
   "language": "python",
   "name": "python3"
  },
  "language_info": {
   "codemirror_mode": {
    "name": "ipython",
    "version": 3
   },
   "file_extension": ".py",
   "mimetype": "text/x-python",
   "name": "python",
   "nbconvert_exporter": "python",
   "pygments_lexer": "ipython3",
   "version": "3.6.4"
  }
 },
 "nbformat": 4,
 "nbformat_minor": 2
}
