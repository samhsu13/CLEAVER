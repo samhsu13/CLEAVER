{
 "cells": [
  {
   "cell_type": "markdown",
   "metadata": {},
   "source": [
    "# This notebook takes the *_second_codings.csv ground truth files generated from makeSecBySec.R and adds an extra column with the fixed coding scheme\n",
    "## The fixed coding scheme generalizes postures more and joins some specific postures together"
   ]
  },
  {
   "cell_type": "code",
   "execution_count": 1,
   "metadata": {},
   "outputs": [],
   "source": [
    "import pandas as pd\n",
    "import numpy as np\n",
    "import os"
   ]
  },
  {
   "cell_type": "markdown",
   "metadata": {},
   "source": [
    "## Get ground truth files (\"*_second_codings.csv\")"
   ]
  },
  {
   "cell_type": "code",
   "execution_count": 5,
   "metadata": {
    "scrolled": true
   },
   "outputs": [
    {
     "data": {
      "text/plain": [
       "['AM01DO1_J_FINAL_R_second_codings.csv',\n",
       " 'AM01DO2_M_FINAL_R_second_codings.csv',\n",
       " 'AM02DO1_J_FINAL_R_second_codings.csv',\n",
       " 'AM02DO2_J_copyA_FINAL_R_second_codings.csv',\n",
       " 'AM03DO1_M_FINAL_R_second_codings.csv',\n",
       " 'AM03DO2_J_FINAL_R_second_codings.csv',\n",
       " 'AM04DO1_J_FINAL_R_second_codings.csv',\n",
       " 'AM04DO2_M_FINAL_R_second_codings.csv',\n",
       " 'AM05DO2re_R_FINAL_C_second_codings.csv',\n",
       " 'AM06DO1_J_FINAL_C_second_codings.csv',\n",
       " 'AM06DO2_N_FINAL_C_second_codings.csv',\n",
       " 'AM07DO1_R_FINAL_C_second_codings.csv',\n",
       " 'AM07DO2_M_FINAL_R_second_codings.csv',\n",
       " 'AM08DO1_J_copyA_FINAL_R_second_codings.csv',\n",
       " 'AM08DO1_J_copyB_FINAL_R_second_codings.csv',\n",
       " 'AM08DO2_J_FINAL_R_second_codings.csv',\n",
       " 'AM09DO1_N_FINAL_R_second_codings.csv',\n",
       " 'AM09DO2_M_FINAL_R_second_codings.csv',\n",
       " 'AM10DO2_M_FINAL_R_second_codings.csv',\n",
       " 'AM11DO1_N_copyA_FINAL_C_second_codings.csv',\n",
       " 'AM11DO2_R_copyA_FINAL_C_second_codings.csv',\n",
       " 'AM11DO2_R_copyB_FINAL_C_second_codings.csv',\n",
       " 'AM12DO1_J_FINAL_C_second_codings.csv',\n",
       " 'AM12DO2_J_copyA_FINAL_C_second_codings.csv',\n",
       " 'AM12DO2_J_copyB_FINAL_C_second_codings.csv',\n",
       " 'AM13DO1_N_FINAL_C_second_codings.csv',\n",
       " 'AM13DO2_M_FINAL_R_second_codings.csv',\n",
       " 'AM14DO1_J_FINAL_R_second_codings.csv',\n",
       " 'AM14DO2_M_FINAL_R_second_codings.csv',\n",
       " 'AM15DO1_R_FINAL_C_second_codings.csv',\n",
       " 'AM15DO2_M_copyA_FINAL_C_second_codings.csv',\n",
       " 'AM15DO2_N_copyA_FINAL_R_second_codings.csv',\n",
       " 'AM16DO1_M_FINAL_R_second_codings.csv',\n",
       " 'AM16DO2_M_FINAL_R_second_codings.csv',\n",
       " 'AM17DO1_J_FINAL_R_second_codings.csv',\n",
       " 'AM17DO2_M_FINAL_C_second_codings.csv',\n",
       " 'AM18DO1_R_FINAL_C_second_codings.csv',\n",
       " 'AM18DO2_N_FINAL_R_second_codings.csv',\n",
       " 'AM19DO1_J_FINAL_R_second_codings.csv',\n",
       " 'AM19DO2_R_FINAL_C_second_codings.csv',\n",
       " 'AM20DO1_R_FINAL_C_second_codings.csv',\n",
       " 'AM20DO2_R_FINAL_C_second_codings.csv',\n",
       " 'AM21DO1_R_FINAL_C_second_codings.csv',\n",
       " 'AM21DO2_M_FINAL_C_second_codings.csv',\n",
       " 'AM22DO1_R_FINAL_C_second_codings.csv',\n",
       " 'AM22DO2_R_FINAL_C_second_codings.csv',\n",
       " 'AM24DO1_R_FINAL_C_second_codings.csv',\n",
       " 'AM24DO2_M_FINAL_R_second_codings.csv',\n",
       " 'AM24DO2_R_FINAL_C_second_codings.csv',\n",
       " 'AM25DO1_R_FINAL_C_second_codings.csv',\n",
       " 'AM25DO2_M_FINAL_R_second_codings.csv',\n",
       " 'AM26DO1_R_FINAL_C_second_codings.csv',\n",
       " 'AM26DO2_R_copyA_FINAL_C_second_codings.csv',\n",
       " 'AM26DO2_R_copyB_FINAL_C_second_codings.csv',\n",
       " 'AM27DO1_R_FINAL_C_second_codings.csv',\n",
       " 'AM27DO2_R_FINAL_C_second_codings.csv']"
      ]
     },
     "execution_count": 5,
     "metadata": {},
     "output_type": "execute_result"
    }
   ],
   "source": [
    "files = os.listdir(\"GroundTruth_old\")\n",
    "files.sort()\n",
    "files"
   ]
  },
  {
   "cell_type": "markdown",
   "metadata": {},
   "source": [
    "## Fix coding scheme; add 'posture_coding' column with fixed coding"
   ]
  },
  {
   "cell_type": "code",
   "execution_count": 39,
   "metadata": {},
   "outputs": [
    {
     "name": "stdout",
     "output_type": "stream",
     "text": [
      "updated AM02DO1_J_FINAL_R_second_codings.csv\n",
      "updated AM19DO2_R_FINAL_C_second_codings.csv\n",
      "updated AM27DO1_R_FINAL_C_second_codings.csv\n",
      "updated AM10DO2_M_FINAL_R_second_codings.csv\n",
      "updated AM26DO2_R_copyB_FINAL_C_second_codings.csv\n",
      "updated AM11DO2_R_copyB_FINAL_C_second_codings.csv\n",
      "updated AM07DO2_M_FINAL_R_second_codings.csv\n",
      "updated AM06DO2_N_FINAL_C_second_codings.csv\n",
      "updated AM22DO1_R_FINAL_C_second_codings.csv\n",
      "updated AM11DO1_N_copyA_FINAL_C_second_codings.csv\n",
      "updated AM08DO1_J_copyA_FINAL_R_second_codings.csv\n",
      "updated AM22DO2_R_FINAL_C_second_codings.csv\n",
      "updated AM27DO2_R_FINAL_C_second_codings.csv\n",
      "updated AM05DO2re_R_FINAL_C_second_codings.csv\n",
      "updated AM09DO2_M_FINAL_R_second_codings.csv\n",
      "updated AM16DO1_M_FINAL_R_second_codings.csv\n",
      "updated AM12DO2_J_copyB_FINAL_C_second_codings.csv\n",
      "updated AM24DO2_R_FINAL_C_second_codings.csv\n",
      "updated AM01DO2_M_FINAL_R_second_codings.csv\n",
      "updated AM01DO1_J_FINAL_R_second_codings.csv\n",
      "updated AM13DO2_M_FINAL_R_second_codings.csv\n",
      "updated AM24DO1_R_FINAL_C_second_codings.csv\n",
      "updated AM04DO2_M_FINAL_R_second_codings.csv\n",
      "updated AM16DO2_M_FINAL_R_second_codings.csv\n",
      "updated AM02DO2_J_copyA_FINAL_R_second_codings.csv\n",
      "updated AM21DO1_R_FINAL_C_second_codings.csv\n",
      "updated AM04DO1_J_FINAL_R_second_codings.csv\n",
      "updated AM25DO2_M_FINAL_R_second_codings.csv\n",
      "updated AM08DO1_J_copyB_FINAL_R_second_codings.csv\n",
      "updated AM13DO1_N_FINAL_C_second_codings.csv\n",
      "updated AM18DO2_N_FINAL_R_second_codings.csv\n",
      "updated AM15DO2_N_copyA_FINAL_R_second_codings.csv\n",
      "updated AM20DO2_R_FINAL_C_second_codings.csv\n",
      "updated AM15DO2_M_copyA_FINAL_C_second_codings.csv\n",
      "updated AM24DO2_M_FINAL_R_second_codings.csv\n",
      "updated AM20DO1_R_FINAL_C_second_codings.csv\n",
      "updated AM08DO2_J_FINAL_R_second_codings.csv\n",
      "updated AM17DO1_J_FINAL_R_second_codings.csv\n",
      "updated AM25DO1_R_FINAL_C_second_codings.csv\n",
      "updated AM06DO1_J_FINAL_C_second_codings.csv\n",
      "updated AM26DO2_R_copyA_FINAL_C_second_codings.csv\n",
      "updated AM11DO2_R_copyA_FINAL_C_second_codings.csv\n",
      "updated AM14DO2_M_FINAL_R_second_codings.csv\n",
      "updated AM21DO2_M_FINAL_C_second_codings.csv\n",
      "updated AM12DO1_J_FINAL_C_second_codings.csv\n",
      "updated AM14DO1_J_FINAL_R_second_codings.csv\n",
      "updated AM26DO1_R_FINAL_C_second_codings.csv\n",
      "updated AM17DO2_M_FINAL_C_second_codings.csv\n",
      "updated AM15DO1_R_FINAL_C_second_codings.csv\n",
      "updated AM07DO1_R_FINAL_C_second_codings.csv\n",
      "updated AM09DO1_N_FINAL_R_second_codings.csv\n",
      "updated AM03DO2_J_FINAL_R_second_codings.csv\n",
      "updated AM18DO1_R_FINAL_C_second_codings.csv\n",
      "updated AM03DO1_M_FINAL_R_second_codings.csv\n",
      "updated AM12DO2_J_copyA_FINAL_C_second_codings.csv\n",
      "updated AM19DO1_J_FINAL_R_second_codings.csv\n"
     ]
    }
   ],
   "source": [
    "for file in files:\n",
    "    ground_truth = pd.read_csv(\"GroundTruth_old/\" + file)\n",
    "    ground_truth = ground_truth[:-1]\n",
    "\n",
    "    # absorb all types of \"LA - stand and move\" together\n",
    "    la = (ground_truth['primary_posture'] == 'LA- stand and move') | (ground_truth['primary_posture'] == 'LA- stand and move with upper body movement') | (ground_truth['primary_posture'] == 'LA- stand and move with unidentifiable upper body movement')\n",
    "\n",
    "    # code \"LA - stand and move\" as light/moderate/vigorous\n",
    "    la_light = la & (ground_truth['primary_intensity'] == 'light')\n",
    "    la_mod = la & (ground_truth['primary_intensity'] == 'moderate')\n",
    "    la_vig = la & (ground_truth['primary_intensity'] == 'vigorous')\n",
    "\n",
    "    # absorb walk and walk w/ load\n",
    "    wa = (ground_truth['primary_posture'] == 'WA- walk') | (ground_truth['primary_posture'] == 'WA-walk with load')\n",
    "\n",
    "    # code walking as light/moderate/vigorous\n",
    "    wa_light = wa & (ground_truth['primary_intensity'] == 'light')\n",
    "    wa_mod = wa & (ground_truth['primary_intensity'] == 'moderate')\n",
    "    wa_vig = wa & (ground_truth['primary_intensity'] == 'vigorous')\n",
    "\n",
    "    # absorb \"LA - kneeling/squatting\" and \"LA - stretching\"\n",
    "    kneel_squat_stretch = (ground_truth['primary_posture'] == 'LA- kneeling/ squatting') | (ground_truth['primary_posture'] == 'LA- stretching')\n",
    "\n",
    "    # absorb \"LA - kneeling/squatting\"/\"LA-stretching\" into \"SB-sitting\" if sedentary\n",
    "    sed_kneel_squat_stretch = kneel_squat_stretch & (ground_truth['primary_intensity'] == 'sedentary')\n",
    "\n",
    "\n",
    "    ground_truth['posture_coding'] = np.where(la_light, 'LA- stand and move light',\n",
    "                                        np.where(la_mod, 'LA- stand and move moderate',\n",
    "                                            np.where(la_vig, 'LA- stand and move vigorous',\n",
    "                                                np.where(wa_light, 'WA- walk light',\n",
    "                                                    np.where(wa_mod, 'WA- walk moderate', \n",
    "                                                        np.where(wa_vig, 'WA- walk vigorous',\n",
    "                                                            np.where(sed_kneel_squat_stretch, 'SB-sitting',\n",
    "                                                                ground_truth['primary_posture'])))))))\n",
    "    \n",
    "    ground_truth.to_csv(file)\n",
    "    print(\"updated \" + file)"
   ]
  },
  {
   "cell_type": "markdown",
   "metadata": {},
   "source": [
    "## Check posture class labels"
   ]
  },
  {
   "cell_type": "code",
   "execution_count": 2,
   "metadata": {},
   "outputs": [],
   "source": [
    "def build_giant_ground_truth(gtdir):\n",
    "    giant_ground_truth = pd.DataFrame()\n",
    "    size_check = 0\n",
    "    \n",
    "    files = os.listdir(gtdir)\n",
    "    \n",
    "    for file in files:\n",
    "        ground_truth = pd.read_csv(gtdir + file)\n",
    "        giant_ground_truth = giant_ground_truth.append(ground_truth)\n",
    "        \n",
    "    return giant_ground_truth"
   ]
  },
  {
   "cell_type": "code",
   "execution_count": 43,
   "metadata": {},
   "outputs": [],
   "source": [
    "new_giant_ground_truth = build_giant_ground_truth(\"GroundTruth_new/\")"
   ]
  },
  {
   "cell_type": "code",
   "execution_count": 44,
   "metadata": {},
   "outputs": [
    {
     "data": {
      "text/plain": [
       "{'LA- stand',\n",
       " 'LA- stand and move light',\n",
       " 'LA- stand and move moderate',\n",
       " 'LA- stand and move vigorous',\n",
       " 'SB- lying',\n",
       " 'SB-sitting',\n",
       " 'SP- bike',\n",
       " 'SP- other sport movement',\n",
       " 'WA- ascend stairs',\n",
       " 'WA- descend stairs',\n",
       " 'WA- running',\n",
       " 'WA- walk light',\n",
       " 'WA- walk moderate',\n",
       " 'WA- walk vigorous',\n",
       " 'private/not coded'}"
      ]
     },
     "execution_count": 44,
     "metadata": {},
     "output_type": "execute_result"
    }
   ],
   "source": [
    "set(new_giant_ground_truth['posture_coding'].values)"
   ]
  },
  {
   "cell_type": "code",
   "execution_count": null,
   "metadata": {},
   "outputs": [],
   "source": []
  }
 ],
 "metadata": {
  "kernelspec": {
   "display_name": "Python 3",
   "language": "python",
   "name": "python3"
  },
  "language_info": {
   "codemirror_mode": {
    "name": "ipython",
    "version": 3
   },
   "file_extension": ".py",
   "mimetype": "text/x-python",
   "name": "python",
   "nbconvert_exporter": "python",
   "pygments_lexer": "ipython3",
   "version": "3.6.4"
  }
 },
 "nbformat": 4,
 "nbformat_minor": 2
}
